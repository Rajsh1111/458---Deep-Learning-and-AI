{
  "nbformat": 4,
  "nbformat_minor": 0,
  "metadata": {
    "accelerator": "TPU",
    "colab": {
      "name": "MSDS458_Assignment_03",
      "provenance": [],
      "collapsed_sections": [
        "t-Jjr3rNr5PR",
        "3NelrisU1HV-",
        "DD01z_cQ27Ku",
        "EA0EHHb67jCJ",
        "b-8mm0A453It",
        "yR8yvQErGfgN",
        "VGYyYKndJP0E",
        "0VHzwWDZd2-p",
        "r1t-uxE3XfOx",
        "AycZiAaDaxDy",
        "ja5avj3KiOOb",
        "HJjzF21My3yz",
        "MpcMc8LbzDQg",
        "7RxVNIYsfz9d",
        "WF3sFk4DgS4X",
        "bo3nkDrzhrR0"
      ],
      "machine_shape": "hm"
    },
    "kernelspec": {
      "display_name": "Python 3",
      "language": "python",
      "name": "python3"
    },
    "language_info": {
      "codemirror_mode": {
        "name": "ipython",
        "version": 3
      },
      "file_extension": ".py",
      "mimetype": "text/x-python",
      "name": "python",
      "nbconvert_exporter": "python",
      "pygments_lexer": "ipython3",
      "version": "3.7.9"
    },
    "toc": {
      "base_numbering": 1,
      "nav_menu": {},
      "number_sections": false,
      "sideBar": true,
      "skip_h1_title": false,
      "title_cell": "Table of Contents",
      "title_sidebar": "Contents",
      "toc_cell": false,
      "toc_position": {},
      "toc_section_display": true,
      "toc_window_display": false
    },
    "widgets": {
      "application/vnd.jupyter.widget-state+json": {
        "c0d7699532564d74b192fffb4c98844c": {
          "model_module": "@jupyter-widgets/controls",
          "model_name": "HBoxModel",
          "state": {
            "_view_name": "HBoxView",
            "_dom_classes": [],
            "_model_name": "HBoxModel",
            "_view_module": "@jupyter-widgets/controls",
            "_model_module_version": "1.5.0",
            "_view_count": null,
            "_view_module_version": "1.5.0",
            "box_style": "",
            "layout": "IPY_MODEL_fa71f78b7afd4ae59281a5b4813ba25d",
            "_model_module": "@jupyter-widgets/controls",
            "children": [
              "IPY_MODEL_5e4fd40331b74216b515eea364286063",
              "IPY_MODEL_300581c1ce7640c3b426e80b3d953059"
            ]
          }
        },
        "fa71f78b7afd4ae59281a5b4813ba25d": {
          "model_module": "@jupyter-widgets/base",
          "model_name": "LayoutModel",
          "state": {
            "_view_name": "LayoutView",
            "grid_template_rows": null,
            "right": null,
            "justify_content": null,
            "_view_module": "@jupyter-widgets/base",
            "overflow": null,
            "_model_module_version": "1.2.0",
            "_view_count": null,
            "flex_flow": null,
            "width": null,
            "min_width": null,
            "border": null,
            "align_items": null,
            "bottom": null,
            "_model_module": "@jupyter-widgets/base",
            "top": null,
            "grid_column": null,
            "overflow_y": null,
            "overflow_x": null,
            "grid_auto_flow": null,
            "grid_area": null,
            "grid_template_columns": null,
            "flex": null,
            "_model_name": "LayoutModel",
            "justify_items": null,
            "grid_row": null,
            "max_height": null,
            "align_content": null,
            "visibility": null,
            "align_self": null,
            "height": null,
            "min_height": null,
            "padding": null,
            "grid_auto_rows": null,
            "grid_gap": null,
            "max_width": null,
            "order": null,
            "_view_module_version": "1.2.0",
            "grid_template_areas": null,
            "object_position": null,
            "object_fit": null,
            "grid_auto_columns": null,
            "margin": null,
            "display": null,
            "left": null
          }
        },
        "5e4fd40331b74216b515eea364286063": {
          "model_module": "@jupyter-widgets/controls",
          "model_name": "FloatProgressModel",
          "state": {
            "_view_name": "ProgressView",
            "style": "IPY_MODEL_7f103c9537b441d6871a8210e9c8d6bc",
            "_dom_classes": [],
            "description": "Dl Completed...: 100%",
            "_model_name": "FloatProgressModel",
            "bar_style": "success",
            "max": 1,
            "_view_module": "@jupyter-widgets/controls",
            "_model_module_version": "1.5.0",
            "value": 1,
            "_view_count": null,
            "_view_module_version": "1.5.0",
            "orientation": "horizontal",
            "min": 0,
            "description_tooltip": null,
            "_model_module": "@jupyter-widgets/controls",
            "layout": "IPY_MODEL_199e0dd8b9c041078007fe29c6b3bfde"
          }
        },
        "300581c1ce7640c3b426e80b3d953059": {
          "model_module": "@jupyter-widgets/controls",
          "model_name": "HTMLModel",
          "state": {
            "_view_name": "HTMLView",
            "style": "IPY_MODEL_5df7e499d58d492aa478bb820338b6fa",
            "_dom_classes": [],
            "description": "",
            "_model_name": "HTMLModel",
            "placeholder": "​",
            "_view_module": "@jupyter-widgets/controls",
            "_model_module_version": "1.5.0",
            "value": " 1/1 [00:04&lt;00:00,  4.39s/ url]",
            "_view_count": null,
            "_view_module_version": "1.5.0",
            "description_tooltip": null,
            "_model_module": "@jupyter-widgets/controls",
            "layout": "IPY_MODEL_1f87be9f326c4b6fae897a149e9ac301"
          }
        },
        "7f103c9537b441d6871a8210e9c8d6bc": {
          "model_module": "@jupyter-widgets/controls",
          "model_name": "ProgressStyleModel",
          "state": {
            "_view_name": "StyleView",
            "_model_name": "ProgressStyleModel",
            "description_width": "initial",
            "_view_module": "@jupyter-widgets/base",
            "_model_module_version": "1.5.0",
            "_view_count": null,
            "_view_module_version": "1.2.0",
            "bar_color": null,
            "_model_module": "@jupyter-widgets/controls"
          }
        },
        "199e0dd8b9c041078007fe29c6b3bfde": {
          "model_module": "@jupyter-widgets/base",
          "model_name": "LayoutModel",
          "state": {
            "_view_name": "LayoutView",
            "grid_template_rows": null,
            "right": null,
            "justify_content": null,
            "_view_module": "@jupyter-widgets/base",
            "overflow": null,
            "_model_module_version": "1.2.0",
            "_view_count": null,
            "flex_flow": null,
            "width": null,
            "min_width": null,
            "border": null,
            "align_items": null,
            "bottom": null,
            "_model_module": "@jupyter-widgets/base",
            "top": null,
            "grid_column": null,
            "overflow_y": null,
            "overflow_x": null,
            "grid_auto_flow": null,
            "grid_area": null,
            "grid_template_columns": null,
            "flex": null,
            "_model_name": "LayoutModel",
            "justify_items": null,
            "grid_row": null,
            "max_height": null,
            "align_content": null,
            "visibility": null,
            "align_self": null,
            "height": null,
            "min_height": null,
            "padding": null,
            "grid_auto_rows": null,
            "grid_gap": null,
            "max_width": null,
            "order": null,
            "_view_module_version": "1.2.0",
            "grid_template_areas": null,
            "object_position": null,
            "object_fit": null,
            "grid_auto_columns": null,
            "margin": null,
            "display": null,
            "left": null
          }
        },
        "5df7e499d58d492aa478bb820338b6fa": {
          "model_module": "@jupyter-widgets/controls",
          "model_name": "DescriptionStyleModel",
          "state": {
            "_view_name": "StyleView",
            "_model_name": "DescriptionStyleModel",
            "description_width": "",
            "_view_module": "@jupyter-widgets/base",
            "_model_module_version": "1.5.0",
            "_view_count": null,
            "_view_module_version": "1.2.0",
            "_model_module": "@jupyter-widgets/controls"
          }
        },
        "1f87be9f326c4b6fae897a149e9ac301": {
          "model_module": "@jupyter-widgets/base",
          "model_name": "LayoutModel",
          "state": {
            "_view_name": "LayoutView",
            "grid_template_rows": null,
            "right": null,
            "justify_content": null,
            "_view_module": "@jupyter-widgets/base",
            "overflow": null,
            "_model_module_version": "1.2.0",
            "_view_count": null,
            "flex_flow": null,
            "width": null,
            "min_width": null,
            "border": null,
            "align_items": null,
            "bottom": null,
            "_model_module": "@jupyter-widgets/base",
            "top": null,
            "grid_column": null,
            "overflow_y": null,
            "overflow_x": null,
            "grid_auto_flow": null,
            "grid_area": null,
            "grid_template_columns": null,
            "flex": null,
            "_model_name": "LayoutModel",
            "justify_items": null,
            "grid_row": null,
            "max_height": null,
            "align_content": null,
            "visibility": null,
            "align_self": null,
            "height": null,
            "min_height": null,
            "padding": null,
            "grid_auto_rows": null,
            "grid_gap": null,
            "max_width": null,
            "order": null,
            "_view_module_version": "1.2.0",
            "grid_template_areas": null,
            "object_position": null,
            "object_fit": null,
            "grid_auto_columns": null,
            "margin": null,
            "display": null,
            "left": null
          }
        },
        "bbd093902f544a41b9a644beb3789e0c": {
          "model_module": "@jupyter-widgets/controls",
          "model_name": "HBoxModel",
          "state": {
            "_view_name": "HBoxView",
            "_dom_classes": [],
            "_model_name": "HBoxModel",
            "_view_module": "@jupyter-widgets/controls",
            "_model_module_version": "1.5.0",
            "_view_count": null,
            "_view_module_version": "1.5.0",
            "box_style": "",
            "layout": "IPY_MODEL_5e60f102038f48ce9435200c63f6d20f",
            "_model_module": "@jupyter-widgets/controls",
            "children": [
              "IPY_MODEL_79d1f0ae453e439fbb1e17803b1b5b69",
              "IPY_MODEL_8de1fdddcf9c422b9e0127e0cbcc47c8"
            ]
          }
        },
        "5e60f102038f48ce9435200c63f6d20f": {
          "model_module": "@jupyter-widgets/base",
          "model_name": "LayoutModel",
          "state": {
            "_view_name": "LayoutView",
            "grid_template_rows": null,
            "right": null,
            "justify_content": null,
            "_view_module": "@jupyter-widgets/base",
            "overflow": null,
            "_model_module_version": "1.2.0",
            "_view_count": null,
            "flex_flow": null,
            "width": null,
            "min_width": null,
            "border": null,
            "align_items": null,
            "bottom": null,
            "_model_module": "@jupyter-widgets/base",
            "top": null,
            "grid_column": null,
            "overflow_y": null,
            "overflow_x": null,
            "grid_auto_flow": null,
            "grid_area": null,
            "grid_template_columns": null,
            "flex": null,
            "_model_name": "LayoutModel",
            "justify_items": null,
            "grid_row": null,
            "max_height": null,
            "align_content": null,
            "visibility": null,
            "align_self": null,
            "height": null,
            "min_height": null,
            "padding": null,
            "grid_auto_rows": null,
            "grid_gap": null,
            "max_width": null,
            "order": null,
            "_view_module_version": "1.2.0",
            "grid_template_areas": null,
            "object_position": null,
            "object_fit": null,
            "grid_auto_columns": null,
            "margin": null,
            "display": null,
            "left": null
          }
        },
        "79d1f0ae453e439fbb1e17803b1b5b69": {
          "model_module": "@jupyter-widgets/controls",
          "model_name": "FloatProgressModel",
          "state": {
            "_view_name": "ProgressView",
            "style": "IPY_MODEL_769011b371a14c90a8108ed43d699655",
            "_dom_classes": [],
            "description": "Dl Size...: ",
            "_model_name": "FloatProgressModel",
            "bar_style": "success",
            "max": 1,
            "_view_module": "@jupyter-widgets/controls",
            "_model_module_version": "1.5.0",
            "value": 1,
            "_view_count": null,
            "_view_module_version": "1.5.0",
            "orientation": "horizontal",
            "min": 0,
            "description_tooltip": null,
            "_model_module": "@jupyter-widgets/controls",
            "layout": "IPY_MODEL_34be464d99e348c789d8363df44f0b1d"
          }
        },
        "8de1fdddcf9c422b9e0127e0cbcc47c8": {
          "model_module": "@jupyter-widgets/controls",
          "model_name": "HTMLModel",
          "state": {
            "_view_name": "HTMLView",
            "style": "IPY_MODEL_022d5215ad744b07a09bb6374bdb58cc",
            "_dom_classes": [],
            "description": "",
            "_model_name": "HTMLModel",
            "placeholder": "​",
            "_view_module": "@jupyter-widgets/controls",
            "_model_module_version": "1.5.0",
            "value": " 11/0 [00:04&lt;00:00,  2.52 MiB/s]",
            "_view_count": null,
            "_view_module_version": "1.5.0",
            "description_tooltip": null,
            "_model_module": "@jupyter-widgets/controls",
            "layout": "IPY_MODEL_5a4107257bbc43179dcae3a66a92c95c"
          }
        },
        "769011b371a14c90a8108ed43d699655": {
          "model_module": "@jupyter-widgets/controls",
          "model_name": "ProgressStyleModel",
          "state": {
            "_view_name": "StyleView",
            "_model_name": "ProgressStyleModel",
            "description_width": "initial",
            "_view_module": "@jupyter-widgets/base",
            "_model_module_version": "1.5.0",
            "_view_count": null,
            "_view_module_version": "1.2.0",
            "bar_color": null,
            "_model_module": "@jupyter-widgets/controls"
          }
        },
        "34be464d99e348c789d8363df44f0b1d": {
          "model_module": "@jupyter-widgets/base",
          "model_name": "LayoutModel",
          "state": {
            "_view_name": "LayoutView",
            "grid_template_rows": null,
            "right": null,
            "justify_content": null,
            "_view_module": "@jupyter-widgets/base",
            "overflow": null,
            "_model_module_version": "1.2.0",
            "_view_count": null,
            "flex_flow": null,
            "width": null,
            "min_width": null,
            "border": null,
            "align_items": null,
            "bottom": null,
            "_model_module": "@jupyter-widgets/base",
            "top": null,
            "grid_column": null,
            "overflow_y": null,
            "overflow_x": null,
            "grid_auto_flow": null,
            "grid_area": null,
            "grid_template_columns": null,
            "flex": null,
            "_model_name": "LayoutModel",
            "justify_items": null,
            "grid_row": null,
            "max_height": null,
            "align_content": null,
            "visibility": null,
            "align_self": null,
            "height": null,
            "min_height": null,
            "padding": null,
            "grid_auto_rows": null,
            "grid_gap": null,
            "max_width": null,
            "order": null,
            "_view_module_version": "1.2.0",
            "grid_template_areas": null,
            "object_position": null,
            "object_fit": null,
            "grid_auto_columns": null,
            "margin": null,
            "display": null,
            "left": null
          }
        },
        "022d5215ad744b07a09bb6374bdb58cc": {
          "model_module": "@jupyter-widgets/controls",
          "model_name": "DescriptionStyleModel",
          "state": {
            "_view_name": "StyleView",
            "_model_name": "DescriptionStyleModel",
            "description_width": "",
            "_view_module": "@jupyter-widgets/base",
            "_model_module_version": "1.5.0",
            "_view_count": null,
            "_view_module_version": "1.2.0",
            "_model_module": "@jupyter-widgets/controls"
          }
        },
        "5a4107257bbc43179dcae3a66a92c95c": {
          "model_module": "@jupyter-widgets/base",
          "model_name": "LayoutModel",
          "state": {
            "_view_name": "LayoutView",
            "grid_template_rows": null,
            "right": null,
            "justify_content": null,
            "_view_module": "@jupyter-widgets/base",
            "overflow": null,
            "_model_module_version": "1.2.0",
            "_view_count": null,
            "flex_flow": null,
            "width": null,
            "min_width": null,
            "border": null,
            "align_items": null,
            "bottom": null,
            "_model_module": "@jupyter-widgets/base",
            "top": null,
            "grid_column": null,
            "overflow_y": null,
            "overflow_x": null,
            "grid_auto_flow": null,
            "grid_area": null,
            "grid_template_columns": null,
            "flex": null,
            "_model_name": "LayoutModel",
            "justify_items": null,
            "grid_row": null,
            "max_height": null,
            "align_content": null,
            "visibility": null,
            "align_self": null,
            "height": null,
            "min_height": null,
            "padding": null,
            "grid_auto_rows": null,
            "grid_gap": null,
            "max_width": null,
            "order": null,
            "_view_module_version": "1.2.0",
            "grid_template_areas": null,
            "object_position": null,
            "object_fit": null,
            "grid_auto_columns": null,
            "margin": null,
            "display": null,
            "left": null
          }
        },
        "68001f27445f4d9b89725b2e6470d08d": {
          "model_module": "@jupyter-widgets/controls",
          "model_name": "HBoxModel",
          "state": {
            "_view_name": "HBoxView",
            "_dom_classes": [],
            "_model_name": "HBoxModel",
            "_view_module": "@jupyter-widgets/controls",
            "_model_module_version": "1.5.0",
            "_view_count": null,
            "_view_module_version": "1.5.0",
            "box_style": "",
            "layout": "IPY_MODEL_90da12ad79bb43ababe8b11b0383c0a1",
            "_model_module": "@jupyter-widgets/controls",
            "children": [
              "IPY_MODEL_1db66b4753a54f90ae95a057a1d9f501",
              "IPY_MODEL_e817a1f2adc34e7c9cae4f111ed7da7b"
            ]
          }
        },
        "90da12ad79bb43ababe8b11b0383c0a1": {
          "model_module": "@jupyter-widgets/base",
          "model_name": "LayoutModel",
          "state": {
            "_view_name": "LayoutView",
            "grid_template_rows": null,
            "right": null,
            "justify_content": null,
            "_view_module": "@jupyter-widgets/base",
            "overflow": null,
            "_model_module_version": "1.2.0",
            "_view_count": null,
            "flex_flow": null,
            "width": null,
            "min_width": null,
            "border": null,
            "align_items": null,
            "bottom": null,
            "_model_module": "@jupyter-widgets/base",
            "top": null,
            "grid_column": null,
            "overflow_y": null,
            "overflow_x": null,
            "grid_auto_flow": null,
            "grid_area": null,
            "grid_template_columns": null,
            "flex": null,
            "_model_name": "LayoutModel",
            "justify_items": null,
            "grid_row": null,
            "max_height": null,
            "align_content": null,
            "visibility": null,
            "align_self": null,
            "height": null,
            "min_height": null,
            "padding": null,
            "grid_auto_rows": null,
            "grid_gap": null,
            "max_width": null,
            "order": null,
            "_view_module_version": "1.2.0",
            "grid_template_areas": null,
            "object_position": null,
            "object_fit": null,
            "grid_auto_columns": null,
            "margin": null,
            "display": null,
            "left": null
          }
        },
        "1db66b4753a54f90ae95a057a1d9f501": {
          "model_module": "@jupyter-widgets/controls",
          "model_name": "FloatProgressModel",
          "state": {
            "_view_name": "ProgressView",
            "style": "IPY_MODEL_841f9ea53c7441cebaec024b7438a093",
            "_dom_classes": [],
            "description": "Extraction completed...: 100%",
            "_model_name": "FloatProgressModel",
            "bar_style": "success",
            "max": 1,
            "_view_module": "@jupyter-widgets/controls",
            "_model_module_version": "1.5.0",
            "value": 1,
            "_view_count": null,
            "_view_module_version": "1.5.0",
            "orientation": "horizontal",
            "min": 0,
            "description_tooltip": null,
            "_model_module": "@jupyter-widgets/controls",
            "layout": "IPY_MODEL_9e82f17cc9e94b6786068853408eaa5b"
          }
        },
        "e817a1f2adc34e7c9cae4f111ed7da7b": {
          "model_module": "@jupyter-widgets/controls",
          "model_name": "HTMLModel",
          "state": {
            "_view_name": "HTMLView",
            "style": "IPY_MODEL_86910a9125f043a5a67e007c1423cd22",
            "_dom_classes": [],
            "description": "",
            "_model_name": "HTMLModel",
            "placeholder": "​",
            "_view_module": "@jupyter-widgets/controls",
            "_model_module_version": "1.5.0",
            "value": " 1/1 [00:04&lt;00:00,  4.34s/ file]",
            "_view_count": null,
            "_view_module_version": "1.5.0",
            "description_tooltip": null,
            "_model_module": "@jupyter-widgets/controls",
            "layout": "IPY_MODEL_a3a8062c86f44636b8ed87dc60b366ad"
          }
        },
        "841f9ea53c7441cebaec024b7438a093": {
          "model_module": "@jupyter-widgets/controls",
          "model_name": "ProgressStyleModel",
          "state": {
            "_view_name": "StyleView",
            "_model_name": "ProgressStyleModel",
            "description_width": "initial",
            "_view_module": "@jupyter-widgets/base",
            "_model_module_version": "1.5.0",
            "_view_count": null,
            "_view_module_version": "1.2.0",
            "bar_color": null,
            "_model_module": "@jupyter-widgets/controls"
          }
        },
        "9e82f17cc9e94b6786068853408eaa5b": {
          "model_module": "@jupyter-widgets/base",
          "model_name": "LayoutModel",
          "state": {
            "_view_name": "LayoutView",
            "grid_template_rows": null,
            "right": null,
            "justify_content": null,
            "_view_module": "@jupyter-widgets/base",
            "overflow": null,
            "_model_module_version": "1.2.0",
            "_view_count": null,
            "flex_flow": null,
            "width": null,
            "min_width": null,
            "border": null,
            "align_items": null,
            "bottom": null,
            "_model_module": "@jupyter-widgets/base",
            "top": null,
            "grid_column": null,
            "overflow_y": null,
            "overflow_x": null,
            "grid_auto_flow": null,
            "grid_area": null,
            "grid_template_columns": null,
            "flex": null,
            "_model_name": "LayoutModel",
            "justify_items": null,
            "grid_row": null,
            "max_height": null,
            "align_content": null,
            "visibility": null,
            "align_self": null,
            "height": null,
            "min_height": null,
            "padding": null,
            "grid_auto_rows": null,
            "grid_gap": null,
            "max_width": null,
            "order": null,
            "_view_module_version": "1.2.0",
            "grid_template_areas": null,
            "object_position": null,
            "object_fit": null,
            "grid_auto_columns": null,
            "margin": null,
            "display": null,
            "left": null
          }
        },
        "86910a9125f043a5a67e007c1423cd22": {
          "model_module": "@jupyter-widgets/controls",
          "model_name": "DescriptionStyleModel",
          "state": {
            "_view_name": "StyleView",
            "_model_name": "DescriptionStyleModel",
            "description_width": "",
            "_view_module": "@jupyter-widgets/base",
            "_model_module_version": "1.5.0",
            "_view_count": null,
            "_view_module_version": "1.2.0",
            "_model_module": "@jupyter-widgets/controls"
          }
        },
        "a3a8062c86f44636b8ed87dc60b366ad": {
          "model_module": "@jupyter-widgets/base",
          "model_name": "LayoutModel",
          "state": {
            "_view_name": "LayoutView",
            "grid_template_rows": null,
            "right": null,
            "justify_content": null,
            "_view_module": "@jupyter-widgets/base",
            "overflow": null,
            "_model_module_version": "1.2.0",
            "_view_count": null,
            "flex_flow": null,
            "width": null,
            "min_width": null,
            "border": null,
            "align_items": null,
            "bottom": null,
            "_model_module": "@jupyter-widgets/base",
            "top": null,
            "grid_column": null,
            "overflow_y": null,
            "overflow_x": null,
            "grid_auto_flow": null,
            "grid_area": null,
            "grid_template_columns": null,
            "flex": null,
            "_model_name": "LayoutModel",
            "justify_items": null,
            "grid_row": null,
            "max_height": null,
            "align_content": null,
            "visibility": null,
            "align_self": null,
            "height": null,
            "min_height": null,
            "padding": null,
            "grid_auto_rows": null,
            "grid_gap": null,
            "max_width": null,
            "order": null,
            "_view_module_version": "1.2.0",
            "grid_template_areas": null,
            "object_position": null,
            "object_fit": null,
            "grid_auto_columns": null,
            "margin": null,
            "display": null,
            "left": null
          }
        },
        "7e033a71d8f44677a3f48f1a38095f3c": {
          "model_module": "@jupyter-widgets/controls",
          "model_name": "HBoxModel",
          "state": {
            "_view_name": "HBoxView",
            "_dom_classes": [],
            "_model_name": "HBoxModel",
            "_view_module": "@jupyter-widgets/controls",
            "_model_module_version": "1.5.0",
            "_view_count": null,
            "_view_module_version": "1.5.0",
            "box_style": "",
            "layout": "IPY_MODEL_9568b5ea41d2414bba5afca159102f1f",
            "_model_module": "@jupyter-widgets/controls",
            "children": [
              "IPY_MODEL_a18f53bb6c3841aa81561c843d6ebdef",
              "IPY_MODEL_844b331d3e4d41b0a9337c33385fe509"
            ]
          }
        },
        "9568b5ea41d2414bba5afca159102f1f": {
          "model_module": "@jupyter-widgets/base",
          "model_name": "LayoutModel",
          "state": {
            "_view_name": "LayoutView",
            "grid_template_rows": null,
            "right": null,
            "justify_content": null,
            "_view_module": "@jupyter-widgets/base",
            "overflow": null,
            "_model_module_version": "1.2.0",
            "_view_count": null,
            "flex_flow": null,
            "width": null,
            "min_width": null,
            "border": null,
            "align_items": null,
            "bottom": null,
            "_model_module": "@jupyter-widgets/base",
            "top": null,
            "grid_column": null,
            "overflow_y": null,
            "overflow_x": null,
            "grid_auto_flow": null,
            "grid_area": null,
            "grid_template_columns": null,
            "flex": null,
            "_model_name": "LayoutModel",
            "justify_items": null,
            "grid_row": null,
            "max_height": null,
            "align_content": null,
            "visibility": null,
            "align_self": null,
            "height": null,
            "min_height": null,
            "padding": null,
            "grid_auto_rows": null,
            "grid_gap": null,
            "max_width": null,
            "order": null,
            "_view_module_version": "1.2.0",
            "grid_template_areas": null,
            "object_position": null,
            "object_fit": null,
            "grid_auto_columns": null,
            "margin": null,
            "display": null,
            "left": null
          }
        },
        "a18f53bb6c3841aa81561c843d6ebdef": {
          "model_module": "@jupyter-widgets/controls",
          "model_name": "FloatProgressModel",
          "state": {
            "_view_name": "ProgressView",
            "style": "IPY_MODEL_77f3e48a904e4630b59b7842c8633a85",
            "_dom_classes": [],
            "description": "",
            "_model_name": "FloatProgressModel",
            "bar_style": "info",
            "max": 1,
            "_view_module": "@jupyter-widgets/controls",
            "_model_module_version": "1.5.0",
            "value": 1,
            "_view_count": null,
            "_view_module_version": "1.5.0",
            "orientation": "horizontal",
            "min": 0,
            "description_tooltip": null,
            "_model_module": "@jupyter-widgets/controls",
            "layout": "IPY_MODEL_5c2c56d9fef74e22b87bda9e4b583a0b"
          }
        },
        "844b331d3e4d41b0a9337c33385fe509": {
          "model_module": "@jupyter-widgets/controls",
          "model_name": "HTMLModel",
          "state": {
            "_view_name": "HTMLView",
            "style": "IPY_MODEL_9e76034ddea84559b66e4779230658f9",
            "_dom_classes": [],
            "description": "",
            "_model_name": "HTMLModel",
            "placeholder": "​",
            "_view_module": "@jupyter-widgets/controls",
            "_model_module_version": "1.5.0",
            "value": " 120000/0 [00:24&lt;00:00, 4830.99 examples/s]",
            "_view_count": null,
            "_view_module_version": "1.5.0",
            "description_tooltip": null,
            "_model_module": "@jupyter-widgets/controls",
            "layout": "IPY_MODEL_35e956ea84094241b88291f30f34a09c"
          }
        },
        "77f3e48a904e4630b59b7842c8633a85": {
          "model_module": "@jupyter-widgets/controls",
          "model_name": "ProgressStyleModel",
          "state": {
            "_view_name": "StyleView",
            "_model_name": "ProgressStyleModel",
            "description_width": "initial",
            "_view_module": "@jupyter-widgets/base",
            "_model_module_version": "1.5.0",
            "_view_count": null,
            "_view_module_version": "1.2.0",
            "bar_color": null,
            "_model_module": "@jupyter-widgets/controls"
          }
        },
        "5c2c56d9fef74e22b87bda9e4b583a0b": {
          "model_module": "@jupyter-widgets/base",
          "model_name": "LayoutModel",
          "state": {
            "_view_name": "LayoutView",
            "grid_template_rows": null,
            "right": null,
            "justify_content": null,
            "_view_module": "@jupyter-widgets/base",
            "overflow": null,
            "_model_module_version": "1.2.0",
            "_view_count": null,
            "flex_flow": null,
            "width": null,
            "min_width": null,
            "border": null,
            "align_items": null,
            "bottom": null,
            "_model_module": "@jupyter-widgets/base",
            "top": null,
            "grid_column": null,
            "overflow_y": null,
            "overflow_x": null,
            "grid_auto_flow": null,
            "grid_area": null,
            "grid_template_columns": null,
            "flex": null,
            "_model_name": "LayoutModel",
            "justify_items": null,
            "grid_row": null,
            "max_height": null,
            "align_content": null,
            "visibility": null,
            "align_self": null,
            "height": null,
            "min_height": null,
            "padding": null,
            "grid_auto_rows": null,
            "grid_gap": null,
            "max_width": null,
            "order": null,
            "_view_module_version": "1.2.0",
            "grid_template_areas": null,
            "object_position": null,
            "object_fit": null,
            "grid_auto_columns": null,
            "margin": null,
            "display": null,
            "left": null
          }
        },
        "9e76034ddea84559b66e4779230658f9": {
          "model_module": "@jupyter-widgets/controls",
          "model_name": "DescriptionStyleModel",
          "state": {
            "_view_name": "StyleView",
            "_model_name": "DescriptionStyleModel",
            "description_width": "",
            "_view_module": "@jupyter-widgets/base",
            "_model_module_version": "1.5.0",
            "_view_count": null,
            "_view_module_version": "1.2.0",
            "_model_module": "@jupyter-widgets/controls"
          }
        },
        "35e956ea84094241b88291f30f34a09c": {
          "model_module": "@jupyter-widgets/base",
          "model_name": "LayoutModel",
          "state": {
            "_view_name": "LayoutView",
            "grid_template_rows": null,
            "right": null,
            "justify_content": null,
            "_view_module": "@jupyter-widgets/base",
            "overflow": null,
            "_model_module_version": "1.2.0",
            "_view_count": null,
            "flex_flow": null,
            "width": null,
            "min_width": null,
            "border": null,
            "align_items": null,
            "bottom": null,
            "_model_module": "@jupyter-widgets/base",
            "top": null,
            "grid_column": null,
            "overflow_y": null,
            "overflow_x": null,
            "grid_auto_flow": null,
            "grid_area": null,
            "grid_template_columns": null,
            "flex": null,
            "_model_name": "LayoutModel",
            "justify_items": null,
            "grid_row": null,
            "max_height": null,
            "align_content": null,
            "visibility": null,
            "align_self": null,
            "height": null,
            "min_height": null,
            "padding": null,
            "grid_auto_rows": null,
            "grid_gap": null,
            "max_width": null,
            "order": null,
            "_view_module_version": "1.2.0",
            "grid_template_areas": null,
            "object_position": null,
            "object_fit": null,
            "grid_auto_columns": null,
            "margin": null,
            "display": null,
            "left": null
          }
        },
        "3f7bfef087ae4614a56631b7ddd000a0": {
          "model_module": "@jupyter-widgets/controls",
          "model_name": "HBoxModel",
          "state": {
            "_view_name": "HBoxView",
            "_dom_classes": [],
            "_model_name": "HBoxModel",
            "_view_module": "@jupyter-widgets/controls",
            "_model_module_version": "1.5.0",
            "_view_count": null,
            "_view_module_version": "1.5.0",
            "box_style": "",
            "layout": "IPY_MODEL_c6d05c59930840b39374e6dacd657561",
            "_model_module": "@jupyter-widgets/controls",
            "children": [
              "IPY_MODEL_8e35db7a852446d9844fd87fe9791652",
              "IPY_MODEL_974786bf36014789aa88bc005bd3da0c"
            ]
          }
        },
        "c6d05c59930840b39374e6dacd657561": {
          "model_module": "@jupyter-widgets/base",
          "model_name": "LayoutModel",
          "state": {
            "_view_name": "LayoutView",
            "grid_template_rows": null,
            "right": null,
            "justify_content": null,
            "_view_module": "@jupyter-widgets/base",
            "overflow": null,
            "_model_module_version": "1.2.0",
            "_view_count": null,
            "flex_flow": null,
            "width": null,
            "min_width": null,
            "border": null,
            "align_items": null,
            "bottom": null,
            "_model_module": "@jupyter-widgets/base",
            "top": null,
            "grid_column": null,
            "overflow_y": null,
            "overflow_x": null,
            "grid_auto_flow": null,
            "grid_area": null,
            "grid_template_columns": null,
            "flex": null,
            "_model_name": "LayoutModel",
            "justify_items": null,
            "grid_row": null,
            "max_height": null,
            "align_content": null,
            "visibility": null,
            "align_self": null,
            "height": null,
            "min_height": null,
            "padding": null,
            "grid_auto_rows": null,
            "grid_gap": null,
            "max_width": null,
            "order": null,
            "_view_module_version": "1.2.0",
            "grid_template_areas": null,
            "object_position": null,
            "object_fit": null,
            "grid_auto_columns": null,
            "margin": null,
            "display": null,
            "left": null
          }
        },
        "8e35db7a852446d9844fd87fe9791652": {
          "model_module": "@jupyter-widgets/controls",
          "model_name": "FloatProgressModel",
          "state": {
            "_view_name": "ProgressView",
            "style": "IPY_MODEL_edabd26100ed4681871883b24c5295af",
            "_dom_classes": [],
            "description": " 96%",
            "_model_name": "FloatProgressModel",
            "bar_style": "danger",
            "max": 120000,
            "_view_module": "@jupyter-widgets/controls",
            "_model_module_version": "1.5.0",
            "value": 114619,
            "_view_count": null,
            "_view_module_version": "1.5.0",
            "orientation": "horizontal",
            "min": 0,
            "description_tooltip": null,
            "_model_module": "@jupyter-widgets/controls",
            "layout": "IPY_MODEL_20ee6cc5a6404b0c9b996ead5fee0c0a"
          }
        },
        "974786bf36014789aa88bc005bd3da0c": {
          "model_module": "@jupyter-widgets/controls",
          "model_name": "HTMLModel",
          "state": {
            "_view_name": "HTMLView",
            "style": "IPY_MODEL_6125703d723146a68b23e233fa02946c",
            "_dom_classes": [],
            "description": "",
            "_model_name": "HTMLModel",
            "placeholder": "​",
            "_view_module": "@jupyter-widgets/controls",
            "_model_module_version": "1.5.0",
            "value": " 114619/120000 [00:00&lt;05:15, 17.04 examples/s]",
            "_view_count": null,
            "_view_module_version": "1.5.0",
            "description_tooltip": null,
            "_model_module": "@jupyter-widgets/controls",
            "layout": "IPY_MODEL_9039b94a362f464c81133472ab6bca2d"
          }
        },
        "edabd26100ed4681871883b24c5295af": {
          "model_module": "@jupyter-widgets/controls",
          "model_name": "ProgressStyleModel",
          "state": {
            "_view_name": "StyleView",
            "_model_name": "ProgressStyleModel",
            "description_width": "initial",
            "_view_module": "@jupyter-widgets/base",
            "_model_module_version": "1.5.0",
            "_view_count": null,
            "_view_module_version": "1.2.0",
            "bar_color": null,
            "_model_module": "@jupyter-widgets/controls"
          }
        },
        "20ee6cc5a6404b0c9b996ead5fee0c0a": {
          "model_module": "@jupyter-widgets/base",
          "model_name": "LayoutModel",
          "state": {
            "_view_name": "LayoutView",
            "grid_template_rows": null,
            "right": null,
            "justify_content": null,
            "_view_module": "@jupyter-widgets/base",
            "overflow": null,
            "_model_module_version": "1.2.0",
            "_view_count": null,
            "flex_flow": null,
            "width": null,
            "min_width": null,
            "border": null,
            "align_items": null,
            "bottom": null,
            "_model_module": "@jupyter-widgets/base",
            "top": null,
            "grid_column": null,
            "overflow_y": null,
            "overflow_x": null,
            "grid_auto_flow": null,
            "grid_area": null,
            "grid_template_columns": null,
            "flex": null,
            "_model_name": "LayoutModel",
            "justify_items": null,
            "grid_row": null,
            "max_height": null,
            "align_content": null,
            "visibility": null,
            "align_self": null,
            "height": null,
            "min_height": null,
            "padding": null,
            "grid_auto_rows": null,
            "grid_gap": null,
            "max_width": null,
            "order": null,
            "_view_module_version": "1.2.0",
            "grid_template_areas": null,
            "object_position": null,
            "object_fit": null,
            "grid_auto_columns": null,
            "margin": null,
            "display": null,
            "left": null
          }
        },
        "6125703d723146a68b23e233fa02946c": {
          "model_module": "@jupyter-widgets/controls",
          "model_name": "DescriptionStyleModel",
          "state": {
            "_view_name": "StyleView",
            "_model_name": "DescriptionStyleModel",
            "description_width": "",
            "_view_module": "@jupyter-widgets/base",
            "_model_module_version": "1.5.0",
            "_view_count": null,
            "_view_module_version": "1.2.0",
            "_model_module": "@jupyter-widgets/controls"
          }
        },
        "9039b94a362f464c81133472ab6bca2d": {
          "model_module": "@jupyter-widgets/base",
          "model_name": "LayoutModel",
          "state": {
            "_view_name": "LayoutView",
            "grid_template_rows": null,
            "right": null,
            "justify_content": null,
            "_view_module": "@jupyter-widgets/base",
            "overflow": null,
            "_model_module_version": "1.2.0",
            "_view_count": null,
            "flex_flow": null,
            "width": null,
            "min_width": null,
            "border": null,
            "align_items": null,
            "bottom": null,
            "_model_module": "@jupyter-widgets/base",
            "top": null,
            "grid_column": null,
            "overflow_y": null,
            "overflow_x": null,
            "grid_auto_flow": null,
            "grid_area": null,
            "grid_template_columns": null,
            "flex": null,
            "_model_name": "LayoutModel",
            "justify_items": null,
            "grid_row": null,
            "max_height": null,
            "align_content": null,
            "visibility": null,
            "align_self": null,
            "height": null,
            "min_height": null,
            "padding": null,
            "grid_auto_rows": null,
            "grid_gap": null,
            "max_width": null,
            "order": null,
            "_view_module_version": "1.2.0",
            "grid_template_areas": null,
            "object_position": null,
            "object_fit": null,
            "grid_auto_columns": null,
            "margin": null,
            "display": null,
            "left": null
          }
        },
        "f8c89ebdbab7411698633e80757facf8": {
          "model_module": "@jupyter-widgets/controls",
          "model_name": "HBoxModel",
          "state": {
            "_view_name": "HBoxView",
            "_dom_classes": [],
            "_model_name": "HBoxModel",
            "_view_module": "@jupyter-widgets/controls",
            "_model_module_version": "1.5.0",
            "_view_count": null,
            "_view_module_version": "1.5.0",
            "box_style": "",
            "layout": "IPY_MODEL_060c85d7efed4fc095960967956f7d64",
            "_model_module": "@jupyter-widgets/controls",
            "children": [
              "IPY_MODEL_eaf758894a5c4b3ab39be811806342b2",
              "IPY_MODEL_35e121becbae462ca70a7a1164bdaf5c"
            ]
          }
        },
        "060c85d7efed4fc095960967956f7d64": {
          "model_module": "@jupyter-widgets/base",
          "model_name": "LayoutModel",
          "state": {
            "_view_name": "LayoutView",
            "grid_template_rows": null,
            "right": null,
            "justify_content": null,
            "_view_module": "@jupyter-widgets/base",
            "overflow": null,
            "_model_module_version": "1.2.0",
            "_view_count": null,
            "flex_flow": null,
            "width": null,
            "min_width": null,
            "border": null,
            "align_items": null,
            "bottom": null,
            "_model_module": "@jupyter-widgets/base",
            "top": null,
            "grid_column": null,
            "overflow_y": null,
            "overflow_x": null,
            "grid_auto_flow": null,
            "grid_area": null,
            "grid_template_columns": null,
            "flex": null,
            "_model_name": "LayoutModel",
            "justify_items": null,
            "grid_row": null,
            "max_height": null,
            "align_content": null,
            "visibility": null,
            "align_self": null,
            "height": null,
            "min_height": null,
            "padding": null,
            "grid_auto_rows": null,
            "grid_gap": null,
            "max_width": null,
            "order": null,
            "_view_module_version": "1.2.0",
            "grid_template_areas": null,
            "object_position": null,
            "object_fit": null,
            "grid_auto_columns": null,
            "margin": null,
            "display": null,
            "left": null
          }
        },
        "eaf758894a5c4b3ab39be811806342b2": {
          "model_module": "@jupyter-widgets/controls",
          "model_name": "FloatProgressModel",
          "state": {
            "_view_name": "ProgressView",
            "style": "IPY_MODEL_99bcee32da274d8d8954c4eddd1de793",
            "_dom_classes": [],
            "description": "",
            "_model_name": "FloatProgressModel",
            "bar_style": "info",
            "max": 1,
            "_view_module": "@jupyter-widgets/controls",
            "_model_module_version": "1.5.0",
            "value": 1,
            "_view_count": null,
            "_view_module_version": "1.5.0",
            "orientation": "horizontal",
            "min": 0,
            "description_tooltip": null,
            "_model_module": "@jupyter-widgets/controls",
            "layout": "IPY_MODEL_9797c22d09004a36b06efaf6ac4fbafa"
          }
        },
        "35e121becbae462ca70a7a1164bdaf5c": {
          "model_module": "@jupyter-widgets/controls",
          "model_name": "HTMLModel",
          "state": {
            "_view_name": "HTMLView",
            "style": "IPY_MODEL_7e20d248235542d897583bc7cd1ac045",
            "_dom_classes": [],
            "description": "",
            "_model_name": "HTMLModel",
            "placeholder": "​",
            "_view_module": "@jupyter-widgets/controls",
            "_model_module_version": "1.5.0",
            "value": " 7600/0 [00:01&lt;00:00, 4974.85 examples/s]",
            "_view_count": null,
            "_view_module_version": "1.5.0",
            "description_tooltip": null,
            "_model_module": "@jupyter-widgets/controls",
            "layout": "IPY_MODEL_8aee40de2d99444188b9328ee8595586"
          }
        },
        "99bcee32da274d8d8954c4eddd1de793": {
          "model_module": "@jupyter-widgets/controls",
          "model_name": "ProgressStyleModel",
          "state": {
            "_view_name": "StyleView",
            "_model_name": "ProgressStyleModel",
            "description_width": "initial",
            "_view_module": "@jupyter-widgets/base",
            "_model_module_version": "1.5.0",
            "_view_count": null,
            "_view_module_version": "1.2.0",
            "bar_color": null,
            "_model_module": "@jupyter-widgets/controls"
          }
        },
        "9797c22d09004a36b06efaf6ac4fbafa": {
          "model_module": "@jupyter-widgets/base",
          "model_name": "LayoutModel",
          "state": {
            "_view_name": "LayoutView",
            "grid_template_rows": null,
            "right": null,
            "justify_content": null,
            "_view_module": "@jupyter-widgets/base",
            "overflow": null,
            "_model_module_version": "1.2.0",
            "_view_count": null,
            "flex_flow": null,
            "width": null,
            "min_width": null,
            "border": null,
            "align_items": null,
            "bottom": null,
            "_model_module": "@jupyter-widgets/base",
            "top": null,
            "grid_column": null,
            "overflow_y": null,
            "overflow_x": null,
            "grid_auto_flow": null,
            "grid_area": null,
            "grid_template_columns": null,
            "flex": null,
            "_model_name": "LayoutModel",
            "justify_items": null,
            "grid_row": null,
            "max_height": null,
            "align_content": null,
            "visibility": null,
            "align_self": null,
            "height": null,
            "min_height": null,
            "padding": null,
            "grid_auto_rows": null,
            "grid_gap": null,
            "max_width": null,
            "order": null,
            "_view_module_version": "1.2.0",
            "grid_template_areas": null,
            "object_position": null,
            "object_fit": null,
            "grid_auto_columns": null,
            "margin": null,
            "display": null,
            "left": null
          }
        },
        "7e20d248235542d897583bc7cd1ac045": {
          "model_module": "@jupyter-widgets/controls",
          "model_name": "DescriptionStyleModel",
          "state": {
            "_view_name": "StyleView",
            "_model_name": "DescriptionStyleModel",
            "description_width": "",
            "_view_module": "@jupyter-widgets/base",
            "_model_module_version": "1.5.0",
            "_view_count": null,
            "_view_module_version": "1.2.0",
            "_model_module": "@jupyter-widgets/controls"
          }
        },
        "8aee40de2d99444188b9328ee8595586": {
          "model_module": "@jupyter-widgets/base",
          "model_name": "LayoutModel",
          "state": {
            "_view_name": "LayoutView",
            "grid_template_rows": null,
            "right": null,
            "justify_content": null,
            "_view_module": "@jupyter-widgets/base",
            "overflow": null,
            "_model_module_version": "1.2.0",
            "_view_count": null,
            "flex_flow": null,
            "width": null,
            "min_width": null,
            "border": null,
            "align_items": null,
            "bottom": null,
            "_model_module": "@jupyter-widgets/base",
            "top": null,
            "grid_column": null,
            "overflow_y": null,
            "overflow_x": null,
            "grid_auto_flow": null,
            "grid_area": null,
            "grid_template_columns": null,
            "flex": null,
            "_model_name": "LayoutModel",
            "justify_items": null,
            "grid_row": null,
            "max_height": null,
            "align_content": null,
            "visibility": null,
            "align_self": null,
            "height": null,
            "min_height": null,
            "padding": null,
            "grid_auto_rows": null,
            "grid_gap": null,
            "max_width": null,
            "order": null,
            "_view_module_version": "1.2.0",
            "grid_template_areas": null,
            "object_position": null,
            "object_fit": null,
            "grid_auto_columns": null,
            "margin": null,
            "display": null,
            "left": null
          }
        },
        "d2d670ba46084c9f877370fa1567909e": {
          "model_module": "@jupyter-widgets/controls",
          "model_name": "HBoxModel",
          "state": {
            "_view_name": "HBoxView",
            "_dom_classes": [],
            "_model_name": "HBoxModel",
            "_view_module": "@jupyter-widgets/controls",
            "_model_module_version": "1.5.0",
            "_view_count": null,
            "_view_module_version": "1.5.0",
            "box_style": "",
            "layout": "IPY_MODEL_da85032c67bb4a0fb1cd4f084b41e56f",
            "_model_module": "@jupyter-widgets/controls",
            "children": [
              "IPY_MODEL_2399a18ed20142c3abaaf87963bde5fe",
              "IPY_MODEL_d39342f815db4e21bd6b96ce19514bde"
            ]
          }
        },
        "da85032c67bb4a0fb1cd4f084b41e56f": {
          "model_module": "@jupyter-widgets/base",
          "model_name": "LayoutModel",
          "state": {
            "_view_name": "LayoutView",
            "grid_template_rows": null,
            "right": null,
            "justify_content": null,
            "_view_module": "@jupyter-widgets/base",
            "overflow": null,
            "_model_module_version": "1.2.0",
            "_view_count": null,
            "flex_flow": null,
            "width": null,
            "min_width": null,
            "border": null,
            "align_items": null,
            "bottom": null,
            "_model_module": "@jupyter-widgets/base",
            "top": null,
            "grid_column": null,
            "overflow_y": null,
            "overflow_x": null,
            "grid_auto_flow": null,
            "grid_area": null,
            "grid_template_columns": null,
            "flex": null,
            "_model_name": "LayoutModel",
            "justify_items": null,
            "grid_row": null,
            "max_height": null,
            "align_content": null,
            "visibility": null,
            "align_self": null,
            "height": null,
            "min_height": null,
            "padding": null,
            "grid_auto_rows": null,
            "grid_gap": null,
            "max_width": null,
            "order": null,
            "_view_module_version": "1.2.0",
            "grid_template_areas": null,
            "object_position": null,
            "object_fit": null,
            "grid_auto_columns": null,
            "margin": null,
            "display": null,
            "left": null
          }
        },
        "2399a18ed20142c3abaaf87963bde5fe": {
          "model_module": "@jupyter-widgets/controls",
          "model_name": "FloatProgressModel",
          "state": {
            "_view_name": "ProgressView",
            "style": "IPY_MODEL_f8fcec9dd2ae434db27ee68c51a7d0d9",
            "_dom_classes": [],
            "description": "  0%",
            "_model_name": "FloatProgressModel",
            "bar_style": "danger",
            "max": 7600,
            "_view_module": "@jupyter-widgets/controls",
            "_model_module_version": "1.5.0",
            "value": 0,
            "_view_count": null,
            "_view_module_version": "1.5.0",
            "orientation": "horizontal",
            "min": 0,
            "description_tooltip": null,
            "_model_module": "@jupyter-widgets/controls",
            "layout": "IPY_MODEL_475aa7333c7646799416de25bbace561"
          }
        },
        "d39342f815db4e21bd6b96ce19514bde": {
          "model_module": "@jupyter-widgets/controls",
          "model_name": "HTMLModel",
          "state": {
            "_view_name": "HTMLView",
            "style": "IPY_MODEL_30dc638efd7e48448644cac3c058b889",
            "_dom_classes": [],
            "description": "",
            "_model_name": "HTMLModel",
            "placeholder": "​",
            "_view_module": "@jupyter-widgets/controls",
            "_model_module_version": "1.5.0",
            "value": " 0/7600 [00:00&lt;?, ? examples/s]",
            "_view_count": null,
            "_view_module_version": "1.5.0",
            "description_tooltip": null,
            "_model_module": "@jupyter-widgets/controls",
            "layout": "IPY_MODEL_ed4214981183460a8bc8934266d93371"
          }
        },
        "f8fcec9dd2ae434db27ee68c51a7d0d9": {
          "model_module": "@jupyter-widgets/controls",
          "model_name": "ProgressStyleModel",
          "state": {
            "_view_name": "StyleView",
            "_model_name": "ProgressStyleModel",
            "description_width": "initial",
            "_view_module": "@jupyter-widgets/base",
            "_model_module_version": "1.5.0",
            "_view_count": null,
            "_view_module_version": "1.2.0",
            "bar_color": null,
            "_model_module": "@jupyter-widgets/controls"
          }
        },
        "475aa7333c7646799416de25bbace561": {
          "model_module": "@jupyter-widgets/base",
          "model_name": "LayoutModel",
          "state": {
            "_view_name": "LayoutView",
            "grid_template_rows": null,
            "right": null,
            "justify_content": null,
            "_view_module": "@jupyter-widgets/base",
            "overflow": null,
            "_model_module_version": "1.2.0",
            "_view_count": null,
            "flex_flow": null,
            "width": null,
            "min_width": null,
            "border": null,
            "align_items": null,
            "bottom": null,
            "_model_module": "@jupyter-widgets/base",
            "top": null,
            "grid_column": null,
            "overflow_y": null,
            "overflow_x": null,
            "grid_auto_flow": null,
            "grid_area": null,
            "grid_template_columns": null,
            "flex": null,
            "_model_name": "LayoutModel",
            "justify_items": null,
            "grid_row": null,
            "max_height": null,
            "align_content": null,
            "visibility": null,
            "align_self": null,
            "height": null,
            "min_height": null,
            "padding": null,
            "grid_auto_rows": null,
            "grid_gap": null,
            "max_width": null,
            "order": null,
            "_view_module_version": "1.2.0",
            "grid_template_areas": null,
            "object_position": null,
            "object_fit": null,
            "grid_auto_columns": null,
            "margin": null,
            "display": null,
            "left": null
          }
        },
        "30dc638efd7e48448644cac3c058b889": {
          "model_module": "@jupyter-widgets/controls",
          "model_name": "DescriptionStyleModel",
          "state": {
            "_view_name": "StyleView",
            "_model_name": "DescriptionStyleModel",
            "description_width": "",
            "_view_module": "@jupyter-widgets/base",
            "_model_module_version": "1.5.0",
            "_view_count": null,
            "_view_module_version": "1.2.0",
            "_model_module": "@jupyter-widgets/controls"
          }
        },
        "ed4214981183460a8bc8934266d93371": {
          "model_module": "@jupyter-widgets/base",
          "model_name": "LayoutModel",
          "state": {
            "_view_name": "LayoutView",
            "grid_template_rows": null,
            "right": null,
            "justify_content": null,
            "_view_module": "@jupyter-widgets/base",
            "overflow": null,
            "_model_module_version": "1.2.0",
            "_view_count": null,
            "flex_flow": null,
            "width": null,
            "min_width": null,
            "border": null,
            "align_items": null,
            "bottom": null,
            "_model_module": "@jupyter-widgets/base",
            "top": null,
            "grid_column": null,
            "overflow_y": null,
            "overflow_x": null,
            "grid_auto_flow": null,
            "grid_area": null,
            "grid_template_columns": null,
            "flex": null,
            "_model_name": "LayoutModel",
            "justify_items": null,
            "grid_row": null,
            "max_height": null,
            "align_content": null,
            "visibility": null,
            "align_self": null,
            "height": null,
            "min_height": null,
            "padding": null,
            "grid_auto_rows": null,
            "grid_gap": null,
            "max_width": null,
            "order": null,
            "_view_module_version": "1.2.0",
            "grid_template_areas": null,
            "object_position": null,
            "object_fit": null,
            "grid_auto_columns": null,
            "margin": null,
            "display": null,
            "left": null
          }
        }
      }
    }
  },
  "cells": [
    {
      "cell_type": "markdown",
      "metadata": {
        "id": "Cfh9kVB-rpjo"
      },
      "source": [
        "<img src=\"https://github.com/djp840/MSDS_458_Public/blob/master/images/NorthwesternHeader.png?raw=1\">"
      ]
    },
    {
      "cell_type": "markdown",
      "metadata": {
        "id": "pRAx1f1ir1St"
      },
      "source": [
        "## MSDS458 Research Assignment 3"
      ]
    },
    {
      "cell_type": "markdown",
      "metadata": {
        "id": "t-Jjr3rNr5PR"
      },
      "source": [
        "## Administrative Setup\r\n",
        "***"
      ]
    },
    {
      "cell_type": "code",
      "metadata": {
        "id": "mbrX9qUZvfs1"
      },
      "source": [
        "import datetime\n",
        "from datetime import datetime\n",
        "from packaging import version\n",
        "from collections import Counter\n",
        "import numpy as np\n",
        "import pandas as pd\n",
        "import matplotlib.pyplot as plt\n",
        "from google.colab import drive\n",
        "\n",
        "\n",
        "# TensorFlow and tf.keras\n",
        "import tensorflow as tf\n",
        "from tensorflow import keras\n",
        "import tensorflow_datasets as tfds"
      ],
      "execution_count": null,
      "outputs": []
    },
    {
      "cell_type": "code",
      "metadata": {
        "id": "q0H8HuzHrWwN"
      },
      "source": [
        "%matplotlib inline\n",
        "np.set_printoptions(precision=3, suppress=True)"
      ],
      "execution_count": null,
      "outputs": []
    },
    {
      "cell_type": "code",
      "metadata": {
        "colab": {
          "base_uri": "https://localhost:8080/"
        },
        "id": "g_BoGg9JrWzj",
        "outputId": "f7faec81-5d13-4e4d-f8ac-5f2da21f081a"
      },
      "source": [
        "print(\"This notebook requires TensorFlow 2.0 or above\")\n",
        "print(\"TensorFlow version: \", tf.__version__)\n",
        "assert version.parse(tf.__version__).release[0] >=2"
      ],
      "execution_count": null,
      "outputs": [
        {
          "output_type": "stream",
          "text": [
            "This notebook requires TensorFlow 2.0 or above\n",
            "TensorFlow version:  2.4.1\n"
          ],
          "name": "stdout"
        }
      ]
    },
    {
      "cell_type": "code",
      "metadata": {
        "colab": {
          "base_uri": "https://localhost:8080/"
        },
        "id": "U_bLWHP4rW3b",
        "outputId": "69271235-8669-45a8-e0aa-7d600931f446"
      },
      "source": [
        "print(\"Keras version: \", keras.__version__)"
      ],
      "execution_count": null,
      "outputs": [
        {
          "output_type": "stream",
          "text": [
            "Keras version:  2.4.0\n"
          ],
          "name": "stdout"
        }
      ]
    },
    {
      "cell_type": "markdown",
      "metadata": {
        "id": "J3-S2vDGs_ye"
      },
      "source": [
        "<div class=\"alert alert-block alert-info\">\n",
        "    <b>Suppress warning messages</b></div>"
      ]
    },
    {
      "cell_type": "code",
      "metadata": {
        "id": "mh3EX5eBrW6R"
      },
      "source": [
        "def warn(*args, **kwargs):\n",
        "    pass\n",
        "import warnings\n",
        "warnings.warn = warn"
      ],
      "execution_count": null,
      "outputs": []
    },
    {
      "cell_type": "markdown",
      "metadata": {
        "id": "-mFyXjJmtJ3E"
      },
      "source": [
        "### Mount Google Drive to Colab Environment"
      ]
    },
    {
      "cell_type": "code",
      "metadata": {
        "id": "CXm3H81YrW8-"
      },
      "source": [
        "#drive.mount('/content/gdrive')"
      ],
      "execution_count": null,
      "outputs": []
    },
    {
      "cell_type": "markdown",
      "metadata": {
        "id": "3NelrisU1HV-"
      },
      "source": [
        "## Loading Data\r\n",
        "***"
      ]
    },
    {
      "cell_type": "markdown",
      "metadata": {
        "id": "X6s4xhh5ysp6"
      },
      "source": [
        "###  TensorFlow Datasets Information<br>\n",
        "<div class=\"alert alert-block alert-info\">\n",
        "    <b> ag_news_subset</b><br>\n",
        "    See https://www.tensorflow.org/datasets/catalog/ag_news_subset\n",
        "    </div>"
      ]
    },
    {
      "cell_type": "markdown",
      "metadata": {
        "id": "cL3ewSkAF4yF"
      },
      "source": [
        "Get all the words in the documents (as well as the number of words in each document) by using the encoder to get the indices associated with each token and then translating the indices to tokens. But first we need to get the \"unpadded\" new articles so that we can get their length."
      ]
    },
    {
      "cell_type": "code",
      "metadata": {
        "colab": {
          "base_uri": "https://localhost:8080/"
        },
        "id": "v0rE_UuUmeW-",
        "outputId": "f4c4092c-e2a8-4a6f-b408-590f9aed8b2d"
      },
      "source": [
        "# register  ag_news_subset so that tfds.load doesn't generate a checksum (mismatch) error\r\n",
        "!cd '/content/sample_data'\r\n",
        "!python -m tensorflow_datasets.scripts.download_and_prepare --register_checksums --datasets=ag_news_subset\r\n"
      ],
      "execution_count": null,
      "outputs": [
        {
          "output_type": "stream",
          "text": [
            "2021-02-19 00:12:06.684682: I tensorflow/stream_executor/platform/default/dso_loader.cc:49] Successfully opened dynamic library libcudart.so.10.1\n",
            "I0219 00:12:09.560589 140582475921280 download_and_prepare.py:200] Running download_and_prepare for dataset(s):\n",
            "ag_news_subset\n",
            "2021-02-19 00:12:09.562390: I tensorflow/core/platform/cloud/google_auth_provider.cc:180] Attempting an empty bearer token since no token was retrieved from files, and GCE metadata check was skipped.\n",
            "2021-02-19 00:12:09.607915: I tensorflow/core/platform/cloud/google_auth_provider.cc:180] Attempting an empty bearer token since no token was retrieved from files, and GCE metadata check was skipped.\n",
            "2021-02-19 00:12:09.639661: I tensorflow/core/platform/cloud/google_auth_provider.cc:180] Attempting an empty bearer token since no token was retrieved from files, and GCE metadata check was skipped.\n",
            "I0219 00:12:09.676738 140582475921280 dataset_info.py:434] Load pre-computed DatasetInfo (eg: splits, num examples,...) from GCS: ag_news_subset/1.0.0\n",
            "2021-02-19 00:12:09.685865: I tensorflow/core/platform/cloud/google_auth_provider.cc:180] Attempting an empty bearer token since no token was retrieved from files, and GCE metadata check was skipped.\n",
            "2021-02-19 00:12:09.749996: I tensorflow/core/platform/cloud/google_auth_provider.cc:180] Attempting an empty bearer token since no token was retrieved from files, and GCE metadata check was skipped.\n",
            "I0219 00:12:09.819785 140582475921280 dataset_info.py:361] Load dataset info from /tmp/tmp6q9k339btfds\n",
            "I0219 00:12:09.821602 140582475921280 download_and_prepare.py:138] download_and_prepare for dataset ag_news_subset/1.0.0...\n",
            "I0219 00:12:09.822095 140582475921280 dataset_builder.py:357] Generating dataset ag_news_subset (/root/tensorflow_datasets/ag_news_subset/1.0.0)\n",
            "\u001b[1mDownloading and preparing dataset ag_news_subset/1.0.0 (download: 11.24 MiB, generated: 35.79 MiB, total: 47.03 MiB) to /root/tensorflow_datasets/ag_news_subset/1.0.0...\u001b[0m\n",
            "2021-02-19 00:12:09.902512: I tensorflow/core/platform/cloud/google_auth_provider.cc:180] Attempting an empty bearer token since no token was retrieved from files, and GCE metadata check was skipped.\n",
            "2021-02-19 00:12:09.934977: I tensorflow/core/platform/cloud/google_auth_provider.cc:180] Attempting an empty bearer token since no token was retrieved from files, and GCE metadata check was skipped.\n",
            "Dl Completed...: 0 url [00:00, ? url/s]\n",
            "Dl Size...: 0 MiB [00:00, ? MiB/s]\u001b[A\n",
            "\n",
            "Extraction completed...: 0 file [00:00, ? file/s]\u001b[A\u001b[AI0219 00:12:09.968991 140582475921280 download_manager.py:465] URL https://drive.google.com/uc?export=download&id=0Bz8a_Dbh9QhbUDNpeUdjb0wxRms already downloaded: reusing /root/tensorflow_datasets/downloads/ucexport_download_id_0Bz8a_Dbh9QhbUDNpeUdjb0wxT1ZQg4e3-XAPrOlyPi8GIySZxj5r_GVckX8GbAHMuiE.\n",
            "I0219 00:12:09.969657 140582475921280 download_manager.py:495] Skipping extraction for /root/tensorflow_datasets/downloads/ucexport_download_id_0Bz8a_Dbh9QhbUDNpeUdjb0wxT1ZQg4e3-XAPrOlyPi8GIySZxj5r_GVckX8GbAHMuiE (method=NO_EXTRACT).\n",
            "\n",
            "Extraction completed...: 0 file [00:00, ? file/s]\n",
            "\n",
            "Dl Size...: 0 MiB [00:00, ? MiB/s]\n",
            "\n",
            "Dl Completed...: 0 url [00:00, ? url/s]\n",
            "I0219 00:12:09.971871 140582475921280 dataset_builder.py:970] Generating split train\n",
            "0 examples [00:00, ? examples/s]Traceback (most recent call last):\n",
            "  File \"/usr/lib/python3.6/runpy.py\", line 193, in _run_module_as_main\n",
            "    \"__main__\", mod_spec)\n",
            "  File \"/usr/lib/python3.6/runpy.py\", line 85, in _run_code\n",
            "    exec(code, run_globals)\n",
            "  File \"/usr/local/lib/python3.6/dist-packages/tensorflow_datasets/scripts/download_and_prepare.py\", line 242, in <module>\n",
            "    app.run(main)\n",
            "  File \"/usr/local/lib/python3.6/dist-packages/absl/app.py\", line 300, in run\n",
            "    _run_main(main, args)\n",
            "  File \"/usr/local/lib/python3.6/dist-packages/absl/app.py\", line 251, in _run_main\n",
            "    sys.exit(main(argv))\n",
            "  File \"/usr/local/lib/python3.6/dist-packages/tensorflow_datasets/scripts/download_and_prepare.py\", line 237, in main\n",
            "    download_and_prepare(builder)\n",
            "  File \"/usr/local/lib/python3.6/dist-packages/tensorflow_datasets/scripts/download_and_prepare.py\", line 155, in download_and_prepare\n",
            "    download_config=dl_config,\n",
            "  File \"/usr/local/lib/python3.6/dist-packages/tensorflow_datasets/core/dataset_builder.py\", line 387, in download_and_prepare\n",
            "    download_config=download_config)\n",
            "  File \"/usr/local/lib/python3.6/dist-packages/tensorflow_datasets/core/dataset_builder.py\", line 1024, in _download_and_prepare\n",
            "    max_examples_per_split=download_config.max_examples_per_split,\n",
            "  File \"/usr/local/lib/python3.6/dist-packages/tensorflow_datasets/core/dataset_builder.py\", line 974, in _download_and_prepare\n",
            "    self._prepare_split(split_generator, **prepare_split_kwargs)\n",
            "  File \"/usr/local/lib/python3.6/dist-packages/tensorflow_datasets/core/dataset_builder.py\", line 1039, in _prepare_split\n",
            "    total=split_info.num_examples, leave=False):\n",
            "  File \"/usr/local/lib/python3.6/dist-packages/tqdm/std.py\", line 1104, in __iter__\n",
            "    for obj in iterable:\n",
            "  File \"/usr/local/lib/python3.6/dist-packages/tensorflow_datasets/text/ag_news_subset.py\", line 111, in _generate_examples\n",
            "    for index, row in enumerate(reader):\n",
            "  File \"/usr/local/lib/python3.6/dist-packages/tensorflow/python/lib/io/file_io.py\", line 206, in __next__\n",
            "    retval = self.readline()\n",
            "  File \"/usr/local/lib/python3.6/dist-packages/tensorflow/python/lib/io/file_io.py\", line 170, in readline\n",
            "    self._preread_check()\n",
            "  File \"/usr/local/lib/python3.6/dist-packages/tensorflow/python/lib/io/file_io.py\", line 80, in _preread_check\n",
            "    compat.path_to_str(self.__name), 1024 * 512)\n",
            "tensorflow.python.framework.errors_impl.FailedPreconditionError: /root/tensorflow_datasets/downloads/ucexport_download_id_0Bz8a_Dbh9QhbUDNpeUdjb0wxT1ZQg4e3-XAPrOlyPi8GIySZxj5r_GVckX8GbAHMuiE/ag_news_csv/train.csv; Not a directory\n"
          ],
          "name": "stdout"
        }
      ]
    },
    {
      "cell_type": "code",
      "metadata": {
        "colab": {
          "base_uri": "https://localhost:8080/",
          "height": 1000,
          "referenced_widgets": [
            "c0d7699532564d74b192fffb4c98844c",
            "fa71f78b7afd4ae59281a5b4813ba25d",
            "5e4fd40331b74216b515eea364286063",
            "300581c1ce7640c3b426e80b3d953059",
            "7f103c9537b441d6871a8210e9c8d6bc",
            "199e0dd8b9c041078007fe29c6b3bfde",
            "5df7e499d58d492aa478bb820338b6fa",
            "1f87be9f326c4b6fae897a149e9ac301",
            "bbd093902f544a41b9a644beb3789e0c",
            "5e60f102038f48ce9435200c63f6d20f",
            "79d1f0ae453e439fbb1e17803b1b5b69",
            "8de1fdddcf9c422b9e0127e0cbcc47c8",
            "769011b371a14c90a8108ed43d699655",
            "34be464d99e348c789d8363df44f0b1d",
            "022d5215ad744b07a09bb6374bdb58cc",
            "5a4107257bbc43179dcae3a66a92c95c",
            "68001f27445f4d9b89725b2e6470d08d",
            "90da12ad79bb43ababe8b11b0383c0a1",
            "1db66b4753a54f90ae95a057a1d9f501",
            "e817a1f2adc34e7c9cae4f111ed7da7b",
            "841f9ea53c7441cebaec024b7438a093",
            "9e82f17cc9e94b6786068853408eaa5b",
            "86910a9125f043a5a67e007c1423cd22",
            "a3a8062c86f44636b8ed87dc60b366ad",
            "7e033a71d8f44677a3f48f1a38095f3c",
            "9568b5ea41d2414bba5afca159102f1f",
            "a18f53bb6c3841aa81561c843d6ebdef",
            "844b331d3e4d41b0a9337c33385fe509",
            "77f3e48a904e4630b59b7842c8633a85",
            "5c2c56d9fef74e22b87bda9e4b583a0b",
            "9e76034ddea84559b66e4779230658f9",
            "35e956ea84094241b88291f30f34a09c",
            "3f7bfef087ae4614a56631b7ddd000a0",
            "c6d05c59930840b39374e6dacd657561",
            "8e35db7a852446d9844fd87fe9791652",
            "974786bf36014789aa88bc005bd3da0c",
            "edabd26100ed4681871883b24c5295af",
            "20ee6cc5a6404b0c9b996ead5fee0c0a",
            "6125703d723146a68b23e233fa02946c",
            "9039b94a362f464c81133472ab6bca2d",
            "f8c89ebdbab7411698633e80757facf8",
            "060c85d7efed4fc095960967956f7d64",
            "eaf758894a5c4b3ab39be811806342b2",
            "35e121becbae462ca70a7a1164bdaf5c",
            "99bcee32da274d8d8954c4eddd1de793",
            "9797c22d09004a36b06efaf6ac4fbafa",
            "7e20d248235542d897583bc7cd1ac045",
            "8aee40de2d99444188b9328ee8595586",
            "d2d670ba46084c9f877370fa1567909e",
            "da85032c67bb4a0fb1cd4f084b41e56f",
            "2399a18ed20142c3abaaf87963bde5fe",
            "d39342f815db4e21bd6b96ce19514bde",
            "f8fcec9dd2ae434db27ee68c51a7d0d9",
            "475aa7333c7646799416de25bbace561",
            "30dc638efd7e48448644cac3c058b889",
            "ed4214981183460a8bc8934266d93371"
          ]
        },
        "id": "VNj2HSxNtTNS",
        "scrolled": true,
        "outputId": "afc88726-214b-4ff8-d3d9-dcc8b5d1672e"
      },
      "source": [
        "# register  ag_news_subset so that tfds.load doesn't generate a checksum (mismatch) error\n",
        "#!cd '/content/sample_data'\n",
        "!cd '/root/tensorflow_datasets'\n",
        "!python -m tensorflow_datasets.scripts.download_and_prepare --register_checksums --datasets=ag_news_subset\n",
        "\n",
        "# Splitting data\n",
        "!cd '/root/tensorflow_datasets/downloads'\n",
        "dataset, info = tfds.load('ag_news_subset', with_info=True,  \n",
        "                          data_dir = '/root/tensorflow_datasets/downloads', \n",
        "                          split=['train[:95%]','train[95%:]', 'test[:]'],\n",
        "                          as_supervised=True)\n",
        "train_dataset, validation_dataset, test_dataset = dataset"
      ],
      "execution_count": null,
      "outputs": [
        {
          "output_type": "stream",
          "text": [
            "/bin/bash: line 0: cd: /root/tensorflow_datasets: No such file or directory\n",
            "2021-02-19 00:18:14.860425: I tensorflow/stream_executor/platform/default/dso_loader.cc:49] Successfully opened dynamic library libcudart.so.10.1\n",
            "I0219 00:18:17.662862 140446422820736 download_and_prepare.py:200] Running download_and_prepare for dataset(s):\n",
            "ag_news_subset\n",
            "2021-02-19 00:18:17.675525: I tensorflow/core/platform/cloud/google_auth_provider.cc:180] Attempting an empty bearer token since no token was retrieved from files, and GCE metadata check was skipped.\n",
            "2021-02-19 00:18:17.743658: I tensorflow/core/platform/cloud/google_auth_provider.cc:180] Attempting an empty bearer token since no token was retrieved from files, and GCE metadata check was skipped.\n",
            "2021-02-19 00:18:17.779816: I tensorflow/core/platform/cloud/google_auth_provider.cc:180] Attempting an empty bearer token since no token was retrieved from files, and GCE metadata check was skipped.\n",
            "I0219 00:18:17.820803 140446422820736 dataset_info.py:434] Load pre-computed DatasetInfo (eg: splits, num examples,...) from GCS: ag_news_subset/1.0.0\n",
            "2021-02-19 00:18:17.830447: I tensorflow/core/platform/cloud/google_auth_provider.cc:180] Attempting an empty bearer token since no token was retrieved from files, and GCE metadata check was skipped.\n",
            "2021-02-19 00:18:17.902325: I tensorflow/core/platform/cloud/google_auth_provider.cc:180] Attempting an empty bearer token since no token was retrieved from files, and GCE metadata check was skipped.\n",
            "I0219 00:18:17.969419 140446422820736 dataset_info.py:361] Load dataset info from /tmp/tmpdafrypz2tfds\n",
            "I0219 00:18:17.971372 140446422820736 download_and_prepare.py:138] download_and_prepare for dataset ag_news_subset/1.0.0...\n",
            "I0219 00:18:17.971829 140446422820736 dataset_builder.py:357] Generating dataset ag_news_subset (/root/tensorflow_datasets/ag_news_subset/1.0.0)\n",
            "\u001b[1mDownloading and preparing dataset ag_news_subset/1.0.0 (download: 11.24 MiB, generated: 35.79 MiB, total: 47.03 MiB) to /root/tensorflow_datasets/ag_news_subset/1.0.0...\u001b[0m\n",
            "2021-02-19 00:18:18.146808: I tensorflow/core/platform/cloud/google_auth_provider.cc:180] Attempting an empty bearer token since no token was retrieved from files, and GCE metadata check was skipped.\n",
            "2021-02-19 00:18:18.185845: I tensorflow/core/platform/cloud/google_auth_provider.cc:180] Attempting an empty bearer token since no token was retrieved from files, and GCE metadata check was skipped.\n",
            "Dl Completed...: 0 url [00:00, ? url/s]\n",
            "Dl Size...: 0 MiB [00:00, ? MiB/s]\u001b[A\n",
            "\n",
            "Extraction completed...: 0 file [00:00, ? file/s]\u001b[A\u001b[AI0219 00:18:18.231032 140446422820736 download_manager.py:476] Downloading https://drive.google.com/uc?export=download&id=0Bz8a_Dbh9QhbUDNpeUdjb0wxRms into /root/tensorflow_datasets/downloads/ucexport_download_id_0Bz8a_Dbh9QhbUDNpeUdjb0wxj4g1umFAV8OV-uDwxSJR0LdxO_k1jxMuFWwAfNX9jos.tmp.088285cffb024e1fb0d1de1220f6a89f...\n",
            "Dl Completed...:   0% 0/1 [00:00<?, ? url/s]\n",
            "Dl Size...: 0 MiB [00:00, ? MiB/s]\u001b[A\n",
            "\n",
            "Dl Completed...:   0% 0/1 [00:04<?, ? url/s]\n",
            "Dl Size...: 0 MiB [00:04, ? MiB/s]\u001b[A\n",
            "\n",
            "Extraction completed...: 0 file [00:04, ? file/s]\u001b[A\u001b[A\n",
            "Dl Completed...:   0% 0/1 [00:04<?, ? url/s]\n",
            "Dl Size...: 1 MiB [00:04,  4.49s/ MiB]\u001b[A\n",
            "\n",
            "Dl Completed...:   0% 0/1 [00:04<?, ? url/s]\n",
            "Dl Size...: 2 MiB [00:04,  4.49s/ MiB]\u001b[A\n",
            "\n",
            "Dl Completed...:   0% 0/1 [00:04<?, ? url/s]\n",
            "Dl Size...: 3 MiB [00:04,  4.49s/ MiB]\u001b[A\n",
            "\n",
            "Dl Completed...:   0% 0/1 [00:04<?, ? url/s]\n",
            "Dl Size...: 4 MiB [00:04,  4.49s/ MiB]\u001b[A\n",
            "\n",
            "Dl Completed...:   0% 0/1 [00:04<?, ? url/s]\n",
            "Dl Size...: 5 MiB [00:04,  4.49s/ MiB]\u001b[A\n",
            "\n",
            "Dl Completed...:   0% 0/1 [00:04<?, ? url/s]\n",
            "Dl Size...: 6 MiB [00:04,  4.49s/ MiB]\u001b[A\n",
            "\n",
            "Dl Completed...:   0% 0/1 [00:04<?, ? url/s]\n",
            "Dl Size...: 7 MiB [00:04,  4.49s/ MiB]\u001b[A\n",
            "\n",
            "Dl Completed...:   0% 0/1 [00:04<?, ? url/s]\n",
            "Dl Size...: 8 MiB [00:04,  4.49s/ MiB]\u001b[A\n",
            "\n",
            "Dl Completed...:   0% 0/1 [00:04<?, ? url/s]\n",
            "Dl Size...: 9 MiB [00:04,  4.49s/ MiB]\u001b[A\n",
            "\n",
            "Dl Completed...:   0% 0/1 [00:04<?, ? url/s]\n",
            "Dl Size...: 10 MiB [00:04,  4.49s/ MiB]\u001b[A\n",
            "\n",
            "Dl Completed...:   0% 0/1 [00:04<?, ? url/s]\n",
            "Dl Size...: 11 MiB [00:04,  4.49s/ MiB]\u001b[A\n",
            "\n",
            "Dl Completed...: 100% 1/1 [00:04<00:00,  4.59s/ url]\n",
            "Dl Size...: 11 MiB [00:04,  4.49s/ MiB]\u001b[A\n",
            "\n",
            "Dl Completed...: 100% 1/1 [00:04<00:00,  4.59s/ url]\n",
            "Dl Size...: 11 MiB [00:04,  4.49s/ MiB]\u001b[A\n",
            "\n",
            "Extraction completed...:   0% 0/1 [00:04<?, ? file/s]\u001b[A\u001b[A\n",
            "\n",
            "Dl Completed...: 100% 1/1 [00:04<00:00,  4.59s/ url]\n",
            "Dl Size...: 11 MiB [00:04,  4.49s/ MiB]\u001b[A\n",
            "\n",
            "Extraction completed...: 100% 1/1 [00:04<00:00,  4.93s/ file]\u001b[A\u001b[A\n",
            "Extraction completed...: 100% 1/1 [00:04<00:00,  4.93s/ file]\n",
            "\n",
            "Dl Size...: 11 MiB [00:04,  2.23 MiB/s]\n",
            "\n",
            "Dl Completed...: 100% 1/1 [00:04<00:00,  4.93s/ url]\n",
            "I0219 00:18:23.160638 140446422820736 dataset_builder.py:970] Generating split train\n",
            "Shuffling and writing examples to /root/tensorflow_datasets/ag_news_subset/1.0.0.incomplete4E0HOB/ag_news_subset-train.tfrecord\n",
            " 73% 87642/120000 [00:00<39:14, 13.75 examples/s]  I0219 00:18:48.027399 140446422820736 tfrecords_writer.py:226] Done writing /root/tensorflow_datasets/ag_news_subset/1.0.0.incomplete4E0HOB/ag_news_subset-train.tfrecord. Shard lengths: [120000]\n",
            "I0219 00:18:48.044508 140446422820736 dataset_builder.py:970] Generating split test\n",
            "Shuffling and writing examples to /root/tensorflow_datasets/ag_news_subset/1.0.0.incomplete4E0HOB/ag_news_subset-test.tfrecord\n",
            "  0% 0/7600 [00:00<?, ? examples/s]I0219 00:18:49.602963 140446422820736 tfrecords_writer.py:226] Done writing /root/tensorflow_datasets/ag_news_subset/1.0.0.incomplete4E0HOB/ag_news_subset-test.tfrecord. Shard lengths: [7600]\n",
            "I0219 00:18:49.604628 140446422820736 dataset_builder.py:412] Skipping computing stats for mode ComputeStatsMode.SKIP.\n",
            "\u001b[1mDataset ag_news_subset downloaded and prepared to /root/tensorflow_datasets/ag_news_subset/1.0.0. Subsequent calls will reuse this data.\u001b[0m\n",
            "\u001b[1mname: \"ag_news_subset\"\n",
            "description: \"AG is a collection of more than 1 million news articles.\\nNews articles have been gathered from more than 2000  news sources by ComeToMyHead in more than 1 year of activity.\\nComeToMyHead is an academic news search engine which has been running since July, 2004.\\nThe dataset is provided by the academic comunity for research purposes in data mining (clustering, classification, etc),\\ninformation retrieval (ranking, search, etc), xml, data compression, data streaming,\\nand any other non-commercial activity.\\nFor more information, please refer to the link http://www.di.unipi.it/~gulli/AG_corpus_of_news_articles.html .\\n\\nThe AG\\'s news topic classification dataset is constructed by Xiang Zhang (xiang.zhang@nyu.edu) from the dataset above.\\nIt is used as a text classification benchmark in the following paper:\\nXiang Zhang, Junbo Zhao, Yann LeCun. Character-level Convolutional Networks for Text Classification. Advances in Neural Information Processing Systems 28 (NIPS 2015).\\n\\nThe AG\\'s news topic classification dataset is constructed by choosing 4 largest classes from the original corpus.\\nEach class contains 30,000 training samples and 1,900 testing samples.\\nThe total number of training samples is 120,000 and testing 7,600.\"\n",
            "citation: \"@misc{zhang2015characterlevel,\\n    title={Character-level Convolutional Networks for Text Classification},\\n    author={Xiang Zhang and Junbo Zhao and Yann LeCun},\\n    year={2015},\\n    eprint={1509.01626},\\n    archivePrefix={arXiv},\\n    primaryClass={cs.LG}\\n}\"\n",
            "location {\n",
            "  urls: \"https://arxiv.org/abs/1509.01626\"\n",
            "}\n",
            "splits {\n",
            "  name: \"test\"\n",
            "  shard_lengths: 7600\n",
            "  num_bytes: 2226751\n",
            "}\n",
            "splits {\n",
            "  name: \"train\"\n",
            "  shard_lengths: 120000\n",
            "  num_bytes: 35301386\n",
            "}\n",
            "supervised_keys {\n",
            "  input: \"description\"\n",
            "  output: \"label\"\n",
            "}\n",
            "version: \"1.0.0\"\n",
            "download_size: 11784327\n",
            "\u001b[0m\n",
            "\u001b[1mDownloading and preparing dataset ag_news_subset/1.0.0 (download: 11.24 MiB, generated: 35.79 MiB, total: 47.03 MiB) to /root/tensorflow_datasets/downloads/ag_news_subset/1.0.0...\u001b[0m\n"
          ],
          "name": "stdout"
        },
        {
          "output_type": "display_data",
          "data": {
            "application/vnd.jupyter.widget-view+json": {
              "model_id": "c0d7699532564d74b192fffb4c98844c",
              "version_minor": 0,
              "version_major": 2
            },
            "text/plain": [
              "HBox(children=(FloatProgress(value=1.0, bar_style='info', description='Dl Completed...', max=1.0, style=Progre…"
            ]
          },
          "metadata": {
            "tags": []
          }
        },
        {
          "output_type": "display_data",
          "data": {
            "application/vnd.jupyter.widget-view+json": {
              "model_id": "bbd093902f544a41b9a644beb3789e0c",
              "version_minor": 0,
              "version_major": 2
            },
            "text/plain": [
              "HBox(children=(FloatProgress(value=1.0, bar_style='info', description='Dl Size...', max=1.0, style=ProgressSty…"
            ]
          },
          "metadata": {
            "tags": []
          }
        },
        {
          "output_type": "display_data",
          "data": {
            "application/vnd.jupyter.widget-view+json": {
              "model_id": "68001f27445f4d9b89725b2e6470d08d",
              "version_minor": 0,
              "version_major": 2
            },
            "text/plain": [
              "HBox(children=(FloatProgress(value=1.0, bar_style='info', description='Extraction completed...', max=1.0, styl…"
            ]
          },
          "metadata": {
            "tags": []
          }
        },
        {
          "output_type": "stream",
          "text": [
            "\n",
            "\n",
            "\n",
            "\n",
            "\n",
            "\n"
          ],
          "name": "stdout"
        },
        {
          "output_type": "display_data",
          "data": {
            "application/vnd.jupyter.widget-view+json": {
              "model_id": "7e033a71d8f44677a3f48f1a38095f3c",
              "version_minor": 0,
              "version_major": 2
            },
            "text/plain": [
              "HBox(children=(FloatProgress(value=1.0, bar_style='info', max=1.0), HTML(value='')))"
            ]
          },
          "metadata": {
            "tags": []
          }
        },
        {
          "output_type": "stream",
          "text": [
            "\rShuffling and writing examples to /root/tensorflow_datasets/downloads/ag_news_subset/1.0.0.incomplete677SDU/ag_news_subset-train.tfrecord\n"
          ],
          "name": "stdout"
        },
        {
          "output_type": "display_data",
          "data": {
            "application/vnd.jupyter.widget-view+json": {
              "model_id": "3f7bfef087ae4614a56631b7ddd000a0",
              "version_minor": 0,
              "version_major": 2
            },
            "text/plain": [
              "HBox(children=(FloatProgress(value=0.0, max=120000.0), HTML(value='')))"
            ]
          },
          "metadata": {
            "tags": []
          }
        },
        {
          "output_type": "stream",
          "text": [
            "\r"
          ],
          "name": "stdout"
        },
        {
          "output_type": "display_data",
          "data": {
            "application/vnd.jupyter.widget-view+json": {
              "model_id": "f8c89ebdbab7411698633e80757facf8",
              "version_minor": 0,
              "version_major": 2
            },
            "text/plain": [
              "HBox(children=(FloatProgress(value=1.0, bar_style='info', max=1.0), HTML(value='')))"
            ]
          },
          "metadata": {
            "tags": []
          }
        },
        {
          "output_type": "stream",
          "text": [
            "Shuffling and writing examples to /root/tensorflow_datasets/downloads/ag_news_subset/1.0.0.incomplete677SDU/ag_news_subset-test.tfrecord\n"
          ],
          "name": "stdout"
        },
        {
          "output_type": "display_data",
          "data": {
            "application/vnd.jupyter.widget-view+json": {
              "model_id": "d2d670ba46084c9f877370fa1567909e",
              "version_minor": 0,
              "version_major": 2
            },
            "text/plain": [
              "HBox(children=(FloatProgress(value=0.0, max=7600.0), HTML(value='')))"
            ]
          },
          "metadata": {
            "tags": []
          }
        },
        {
          "output_type": "stream",
          "text": [
            "\u001b[1mDataset ag_news_subset downloaded and prepared to /root/tensorflow_datasets/downloads/ag_news_subset/1.0.0. Subsequent calls will reuse this data.\u001b[0m\n",
            "\r"
          ],
          "name": "stdout"
        }
      ]
    },
    {
      "cell_type": "code",
      "metadata": {
        "colab": {
          "base_uri": "https://localhost:8080/"
        },
        "id": "eJNcnZbRtTQ2",
        "outputId": "fad8b781-b44e-4801-accb-627e5272acd5"
      },
      "source": [
        "info"
      ],
      "execution_count": null,
      "outputs": [
        {
          "output_type": "execute_result",
          "data": {
            "text/plain": [
              "tfds.core.DatasetInfo(\n",
              "    name='ag_news_subset',\n",
              "    version=1.0.0,\n",
              "    description='AG is a collection of more than 1 million news articles.\n",
              "News articles have been gathered from more than 2000  news sources by ComeToMyHead in more than 1 year of activity.\n",
              "ComeToMyHead is an academic news search engine which has been running since July, 2004.\n",
              "The dataset is provided by the academic comunity for research purposes in data mining (clustering, classification, etc),\n",
              "information retrieval (ranking, search, etc), xml, data compression, data streaming,\n",
              "and any other non-commercial activity.\n",
              "For more information, please refer to the link http://www.di.unipi.it/~gulli/AG_corpus_of_news_articles.html .\n",
              "\n",
              "The AG's news topic classification dataset is constructed by Xiang Zhang (xiang.zhang@nyu.edu) from the dataset above.\n",
              "It is used as a text classification benchmark in the following paper:\n",
              "Xiang Zhang, Junbo Zhao, Yann LeCun. Character-level Convolutional Networks for Text Classification. Advances in Neural Information Processing Systems 28 (NIPS 2015).\n",
              "\n",
              "The AG's news topic classification dataset is constructed by choosing 4 largest classes from the original corpus.\n",
              "Each class contains 30,000 training samples and 1,900 testing samples.\n",
              "The total number of training samples is 120,000 and testing 7,600.',\n",
              "    homepage='https://arxiv.org/abs/1509.01626',\n",
              "    features=FeaturesDict({\n",
              "        'description': Text(shape=(), dtype=tf.string),\n",
              "        'label': ClassLabel(shape=(), dtype=tf.int64, num_classes=4),\n",
              "        'title': Text(shape=(), dtype=tf.string),\n",
              "    }),\n",
              "    total_num_examples=127600,\n",
              "    splits={\n",
              "        'test': 7600,\n",
              "        'train': 120000,\n",
              "    },\n",
              "    supervised_keys=('description', 'label'),\n",
              "    citation=\"\"\"@misc{zhang2015characterlevel,\n",
              "        title={Character-level Convolutional Networks for Text Classification},\n",
              "        author={Xiang Zhang and Junbo Zhao and Yann LeCun},\n",
              "        year={2015},\n",
              "        eprint={1509.01626},\n",
              "        archivePrefix={arXiv},\n",
              "        primaryClass={cs.LG}\n",
              "    }\"\"\",\n",
              "    redistribution_info=,\n",
              ")"
            ]
          },
          "metadata": {
            "tags": []
          },
          "execution_count": 8
        }
      ]
    },
    {
      "cell_type": "markdown",
      "metadata": {
        "id": "DD01z_cQ27Ku"
      },
      "source": [
        "## EDA\r\n",
        "***"
      ]
    },
    {
      "cell_type": "code",
      "metadata": {
        "id": "w6GaSzMRqrIR",
        "colab": {
          "base_uri": "https://localhost:8080/",
          "height": 410
        },
        "outputId": "9a142689-5748-48a4-c9f5-ed1eaf6a03f9"
      },
      "source": [
        "# Viewing some examples\r\n",
        "tfds.as_dataframe(train_dataset.take(10),info)"
      ],
      "execution_count": null,
      "outputs": [
        {
          "output_type": "execute_result",
          "data": {
            "text/html": [
              "<style  type=\"text/css\" >\n",
              "</style><table id=\"T_b564479c_7248_11eb_87ea_0242ac1c0002\" ><thead>    <tr>        <th class=\"blank level0\" ></th>        <th class=\"col_heading level0 col0\" >description</th>        <th class=\"col_heading level0 col1\" >label</th>    </tr></thead><tbody>\n",
              "                <tr>\n",
              "                        <th id=\"T_b564479c_7248_11eb_87ea_0242ac1c0002level0_row0\" class=\"row_heading level0 row0\" >0</th>\n",
              "                        <td id=\"T_b564479c_7248_11eb_87ea_0242ac1c0002row0_col0\" class=\"data row0 col0\" >AMD #39;s new dual-core Opteron chip is designed mainly for corporate computing applications, including databases, Web services, and financial transactions.</td>\n",
              "                        <td id=\"T_b564479c_7248_11eb_87ea_0242ac1c0002row0_col1\" class=\"data row0 col1\" >3 (Sci/Tech)</td>\n",
              "            </tr>\n",
              "            <tr>\n",
              "                        <th id=\"T_b564479c_7248_11eb_87ea_0242ac1c0002level0_row1\" class=\"row_heading level0 row1\" >1</th>\n",
              "                        <td id=\"T_b564479c_7248_11eb_87ea_0242ac1c0002row1_col0\" class=\"data row1 col0\" >Reuters - Major League Baseball\\Monday announced a decision on the appeal filed by Chicago Cubs\\pitcher Kerry Wood regarding a suspension stemming from an\\incident earlier this season.</td>\n",
              "                        <td id=\"T_b564479c_7248_11eb_87ea_0242ac1c0002row1_col1\" class=\"data row1 col1\" >1 (Sports)</td>\n",
              "            </tr>\n",
              "            <tr>\n",
              "                        <th id=\"T_b564479c_7248_11eb_87ea_0242ac1c0002level0_row2\" class=\"row_heading level0 row2\" >2</th>\n",
              "                        <td id=\"T_b564479c_7248_11eb_87ea_0242ac1c0002row2_col0\" class=\"data row2 col0\" >President Bush #39;s quot;revenue-neutral quot; tax reform needs losers to balance its winners, and people claiming the federal deduction for state and local taxes may be in administration planners #39; sights, news reports say.</td>\n",
              "                        <td id=\"T_b564479c_7248_11eb_87ea_0242ac1c0002row2_col1\" class=\"data row2 col1\" >2 (Business)</td>\n",
              "            </tr>\n",
              "            <tr>\n",
              "                        <th id=\"T_b564479c_7248_11eb_87ea_0242ac1c0002level0_row3\" class=\"row_heading level0 row3\" >3</th>\n",
              "                        <td id=\"T_b564479c_7248_11eb_87ea_0242ac1c0002row3_col0\" class=\"data row3 col0\" >Britain will run out of leading scientists unless science education is improved, says Professor Colin Pillinger.</td>\n",
              "                        <td id=\"T_b564479c_7248_11eb_87ea_0242ac1c0002row3_col1\" class=\"data row3 col1\" >3 (Sci/Tech)</td>\n",
              "            </tr>\n",
              "            <tr>\n",
              "                        <th id=\"T_b564479c_7248_11eb_87ea_0242ac1c0002level0_row4\" class=\"row_heading level0 row4\" >4</th>\n",
              "                        <td id=\"T_b564479c_7248_11eb_87ea_0242ac1c0002row4_col0\" class=\"data row4 col0\" >London, England (Sports Network) - England midfielder Steven Gerrard injured his groin late in Thursday #39;s training session, but is hopeful he will be ready for Saturday #39;s World Cup qualifier against Austria.</td>\n",
              "                        <td id=\"T_b564479c_7248_11eb_87ea_0242ac1c0002row4_col1\" class=\"data row4 col1\" >1 (Sports)</td>\n",
              "            </tr>\n",
              "            <tr>\n",
              "                        <th id=\"T_b564479c_7248_11eb_87ea_0242ac1c0002level0_row5\" class=\"row_heading level0 row5\" >5</th>\n",
              "                        <td id=\"T_b564479c_7248_11eb_87ea_0242ac1c0002row5_col0\" class=\"data row5 col0\" >TOKYO - Sony Corp. is banking on the \\$3 billion deal to acquire Hollywood studio Metro-Goldwyn-Mayer Inc...</td>\n",
              "                        <td id=\"T_b564479c_7248_11eb_87ea_0242ac1c0002row5_col1\" class=\"data row5 col1\" >0 (World)</td>\n",
              "            </tr>\n",
              "            <tr>\n",
              "                        <th id=\"T_b564479c_7248_11eb_87ea_0242ac1c0002level0_row6\" class=\"row_heading level0 row6\" >6</th>\n",
              "                        <td id=\"T_b564479c_7248_11eb_87ea_0242ac1c0002row6_col0\" class=\"data row6 col0\" >Giant pandas may well prefer bamboo to laptops, but wireless technology is helping researchers in China in their efforts to protect the engandered animals living in the remote Wolong Nature Reserve.</td>\n",
              "                        <td id=\"T_b564479c_7248_11eb_87ea_0242ac1c0002row6_col1\" class=\"data row6 col1\" >3 (Sci/Tech)</td>\n",
              "            </tr>\n",
              "            <tr>\n",
              "                        <th id=\"T_b564479c_7248_11eb_87ea_0242ac1c0002level0_row7\" class=\"row_heading level0 row7\" >7</th>\n",
              "                        <td id=\"T_b564479c_7248_11eb_87ea_0242ac1c0002row7_col0\" class=\"data row7 col0\" >VILNIUS, Lithuania - Lithuania #39;s main parties formed an alliance to try to keep a Russian-born tycoon and his populist promises out of the government in Sunday #39;s second round of parliamentary elections in this Baltic country.</td>\n",
              "                        <td id=\"T_b564479c_7248_11eb_87ea_0242ac1c0002row7_col1\" class=\"data row7 col1\" >0 (World)</td>\n",
              "            </tr>\n",
              "            <tr>\n",
              "                        <th id=\"T_b564479c_7248_11eb_87ea_0242ac1c0002level0_row8\" class=\"row_heading level0 row8\" >8</th>\n",
              "                        <td id=\"T_b564479c_7248_11eb_87ea_0242ac1c0002row8_col0\" class=\"data row8 col0\" >Witnesses in the trial of a US soldier charged with abusing prisoners at Abu Ghraib have told the court that the CIA sometimes directed abuse and orders were received from military command to toughen interrogations.</td>\n",
              "                        <td id=\"T_b564479c_7248_11eb_87ea_0242ac1c0002row8_col1\" class=\"data row8 col1\" >0 (World)</td>\n",
              "            </tr>\n",
              "            <tr>\n",
              "                        <th id=\"T_b564479c_7248_11eb_87ea_0242ac1c0002level0_row9\" class=\"row_heading level0 row9\" >9</th>\n",
              "                        <td id=\"T_b564479c_7248_11eb_87ea_0242ac1c0002row9_col0\" class=\"data row9 col0\" >Dan Olsen of Ponte Vedra Beach, Fla., shot a 7-under 65 Thursday to take a one-shot lead after two rounds of the PGA Tour qualifying tournament.</td>\n",
              "                        <td id=\"T_b564479c_7248_11eb_87ea_0242ac1c0002row9_col1\" class=\"data row9 col1\" >1 (Sports)</td>\n",
              "            </tr>\n",
              "    </tbody></table>"
            ],
            "text/plain": [
              "                                         description  label\n",
              "0  b'AMD #39;s new dual-core Opteron chip is desi...      3\n",
              "1  b'Reuters - Major League Baseball\\\\Monday anno...      1\n",
              "2  b'President Bush #39;s  quot;revenue-neutral q...      2\n",
              "3  b'Britain will run out of leading scientists u...      3\n",
              "4  b'London, England (Sports Network) - England m...      1\n",
              "5  b'TOKYO - Sony Corp. is banking on the \\\\$3 bi...      0\n",
              "6  b'Giant pandas may well prefer bamboo to lapto...      3\n",
              "7  b'VILNIUS, Lithuania - Lithuania #39;s main pa...      0\n",
              "8  b'Witnesses in the trial of a US soldier charg...      0\n",
              "9  b'Dan Olsen of Ponte Vedra Beach, Fla., shot a...      1"
            ]
          },
          "metadata": {
            "tags": []
          },
          "execution_count": 9
        }
      ]
    },
    {
      "cell_type": "code",
      "metadata": {
        "id": "4uBCsL_8tTUU",
        "colab": {
          "base_uri": "https://localhost:8080/"
        },
        "outputId": "cc61dd61-d5d3-47aa-cbcb-8f65d088327a"
      },
      "source": [
        "# Checking labels\n",
        "print(f'There are {info.features[\"label\"].num_classes} classes in the dataset.')\n",
        "print(f'The class names are {info.features[\"label\"].names}')"
      ],
      "execution_count": null,
      "outputs": [
        {
          "output_type": "stream",
          "text": [
            "There are 4 classes in the dataset.\n",
            "The class names are ['World', 'Sports', 'Business', 'Sci/Tech']\n"
          ],
          "name": "stdout"
        }
      ]
    },
    {
      "cell_type": "code",
      "metadata": {
        "id": "fRbULmnCtTXo",
        "colab": {
          "base_uri": "https://localhost:8080/"
        },
        "outputId": "6da006ea-f0dc-4a61-eb56-397208160823"
      },
      "source": [
        "# classes dictionary\n",
        "categories =dict(enumerate(info.features[\"label\"].names))\n",
        "categories"
      ],
      "execution_count": null,
      "outputs": [
        {
          "output_type": "execute_result",
          "data": {
            "text/plain": [
              "{0: 'World', 1: 'Sports', 2: 'Business', 3: 'Sci/Tech'}"
            ]
          },
          "metadata": {
            "tags": []
          },
          "execution_count": 11
        }
      ]
    },
    {
      "cell_type": "code",
      "metadata": {
        "id": "PRtOaULstTbJ",
        "colab": {
          "base_uri": "https://localhost:8080/"
        },
        "outputId": "a90928a1-9921-4c90-acda-1b24c6e9c305"
      },
      "source": [
        "# Our labels are well balanced in our training set\n",
        "train_categories = [categories[label] for label in train_dataset.map(lambda text, label: label).as_numpy_iterator()]\n",
        "Counter(train_categories).most_common()"
      ],
      "execution_count": null,
      "outputs": [
        {
          "output_type": "execute_result",
          "data": {
            "text/plain": [
              "[('Business', 28531), ('Sports', 28495), ('World', 28491), ('Sci/Tech', 28483)]"
            ]
          },
          "metadata": {
            "tags": []
          },
          "execution_count": 12
        }
      ]
    },
    {
      "cell_type": "code",
      "metadata": {
        "id": "xslSk0Es1-wc",
        "colab": {
          "base_uri": "https://localhost:8080/"
        },
        "outputId": "0d843f73-d436-4c1d-e07f-8b50b5ea0126"
      },
      "source": [
        "# Total number of training records\r\n",
        "len(train_categories)"
      ],
      "execution_count": null,
      "outputs": [
        {
          "output_type": "execute_result",
          "data": {
            "text/plain": [
              "114000"
            ]
          },
          "metadata": {
            "tags": []
          },
          "execution_count": 13
        }
      ]
    },
    {
      "cell_type": "markdown",
      "metadata": {
        "id": "EA0EHHb67jCJ"
      },
      "source": [
        "## Experiment A - Vectorizing and Embedding Text\r\n",
        "***\r\n",
        "Processing the raw text using the TextVectorization Layer\r\n",
        "https://www.tensorflow.org/api_docs/python/tf/keras/layers/experimental/preprocessing/TextVectorization\r\n",
        "\r\n",
        "There are questions to be answered though:\r\n",
        "1. Should we cap the number of tokens per document?\r\n",
        "2. What should be the vocabulary size?\r\n",
        "3. Should we include the top most common words?\r\n",
        "\r\n",
        "\r\n",
        "Experiments A: EDA: For NLP projects, it is very important to do extensive EDA and do the preprocessing before defining models. These are the suggestions.\r\n",
        "\r\n",
        "(a) Vocabulary Size: Tweak the vocabulary size, at least 3 levels.\r\n",
        "\r\n",
        "(b) Editing the Vocabulary: Try unedited most frequent words, VS edit the list by deleting the most frequent words such as articles, ‘the’, ‘a’, etc.\r\n",
        "\r\n",
        "(c) Output sequence length: Use the default VS set it to a fixed number"
      ]
    },
    {
      "cell_type": "markdown",
      "metadata": {
        "id": "b-8mm0A453It"
      },
      "source": [
        "### Vectorizing with MAX tokens\r\n",
        "Starting with no limits to allow for us to play around and determine what the right levels may be for the points listed above."
      ]
    },
    {
      "cell_type": "code",
      "metadata": {
        "id": "WYY7P-aaeU4Z",
        "colab": {
          "base_uri": "https://localhost:8080/"
        },
        "outputId": "76caefc0-695b-4b0e-a352-beeee272ef69"
      },
      "source": [
        "%%time\n",
        "encoder = tf.keras.layers.experimental.preprocessing.TextVectorization(max_tokens=None)\n",
        "encoder.adapt(train_dataset.map(lambda text, label: text))\n",
        "\n",
        "vocab = np.array(encoder.get_vocabulary())"
      ],
      "execution_count": null,
      "outputs": [
        {
          "output_type": "stream",
          "text": [
            "WARNING:tensorflow:AutoGraph could not transform <function <lambda> at 0x7fa92d0d96a8> and will run it as-is.\n",
            "Cause: could not parse the source code of <function <lambda> at 0x7fa92d0d96a8>: no matching AST found\n",
            "To silence this warning, decorate the function with @tf.autograph.experimental.do_not_convert\n"
          ],
          "name": "stdout"
        },
        {
          "output_type": "stream",
          "text": [
            "WARNING:tensorflow:AutoGraph could not transform <function <lambda> at 0x7fa92d0d96a8> and will run it as-is.\n",
            "Cause: could not parse the source code of <function <lambda> at 0x7fa92d0d96a8>: no matching AST found\n",
            "To silence this warning, decorate the function with @tf.autograph.experimental.do_not_convert\n"
          ],
          "name": "stderr"
        },
        {
          "output_type": "stream",
          "text": [
            "WARNING: AutoGraph could not transform <function <lambda> at 0x7fa92d0d96a8> and will run it as-is.\n",
            "Cause: could not parse the source code of <function <lambda> at 0x7fa92d0d96a8>: no matching AST found\n",
            "To silence this warning, decorate the function with @tf.autograph.experimental.do_not_convert\n",
            "CPU times: user 1min 37s, sys: 31.5 s, total: 2min 9s\n",
            "Wall time: 1min 10s\n"
          ],
          "name": "stdout"
        }
      ]
    },
    {
      "cell_type": "code",
      "metadata": {
        "id": "Jt0IPW8R6cJn",
        "colab": {
          "base_uri": "https://localhost:8080/"
        },
        "outputId": "191991f6-0a11-49c1-9399-bb56903a01c2"
      },
      "source": [
        "# Checking number of words in our corpus\r\n",
        "len(vocab)"
      ],
      "execution_count": null,
      "outputs": [
        {
          "output_type": "execute_result",
          "data": {
            "text/plain": [
              "90800"
            ]
          },
          "metadata": {
            "tags": []
          },
          "execution_count": 15
        }
      ]
    },
    {
      "cell_type": "code",
      "metadata": {
        "id": "UVdGTyoD7e21",
        "colab": {
          "base_uri": "https://localhost:8080/"
        },
        "outputId": "c1eceacf-5d78-4f49-e5d1-66ab34711972"
      },
      "source": [
        "# Testing a random string to see how it encodes\r\n",
        "example = 'Kyle is working hard on his AI assignment'\r\n",
        "encoder(example)"
      ],
      "execution_count": null,
      "outputs": [
        {
          "output_type": "execute_result",
          "data": {
            "text/plain": [
              "<tf.Tensor: shape=(8,), dtype=int64, numpy=array([ 4444,    16,   784,   941,     8,    24, 12084, 10158])>"
            ]
          },
          "metadata": {
            "tags": []
          },
          "execution_count": 16
        }
      ]
    },
    {
      "cell_type": "code",
      "metadata": {
        "id": "zp_oBfyl7evS",
        "colab": {
          "base_uri": "https://localhost:8080/"
        },
        "outputId": "31c6f4f1-d7b0-45bf-e28f-78691188182b"
      },
      "source": [
        "# Now let's run our Training set through the encoder to do some more EDA\r\n",
        "%%time\r\n",
        "doc_sizes = []\r\n",
        "corpus = []\r\n",
        "for example, _ in train_dataset.as_numpy_iterator():\r\n",
        "  enc_example = encoder(example)\r\n",
        "  doc_sizes.append(len(enc_example))\r\n",
        "  corpus+=list(enc_example.numpy())"
      ],
      "execution_count": null,
      "outputs": [
        {
          "output_type": "stream",
          "text": [
            "CPU times: user 5min 10s, sys: 3.99 s, total: 5min 14s\n",
            "Wall time: 4min 57s\n"
          ],
          "name": "stdout"
        }
      ]
    },
    {
      "cell_type": "code",
      "metadata": {
        "colab": {
          "base_uri": "https://localhost:8080/"
        },
        "id": "1rzJ5r8w-ZpS",
        "outputId": "ea295904-8008-49e2-8d89-a8efd776fc4d"
      },
      "source": [
        "# Checking high level metrics\r\n",
        "print(\"Number of Words: \\t\\t\", len(corpus))\r\n",
        "print(\"Number of Documents: \\t\\t\", len(doc_sizes))\r\n",
        "print(\"Minimum Words in a document: \\t\", min(doc_sizes))\r\n",
        "print(\"Maximum Words in a document: \\t\", max(doc_sizes))"
      ],
      "execution_count": null,
      "outputs": [
        {
          "output_type": "stream",
          "text": [
            "Number of Words: \t\t 3492762\n",
            "Number of Documents: \t\t 114000\n",
            "Minimum Words in a document: \t 3\n",
            "Maximum Words in a document: \t 168\n"
          ],
          "name": "stdout"
        }
      ]
    },
    {
      "cell_type": "markdown",
      "metadata": {
        "id": "l_Lqn5lDDV2M"
      },
      "source": [
        "1. Should we cap the number of tokens per document?"
      ]
    },
    {
      "cell_type": "code",
      "metadata": {
        "id": "-yS12mnD7elR",
        "colab": {
          "base_uri": "https://localhost:8080/"
        },
        "outputId": "4df1f8bd-cd7c-4e1d-fca5-8000f89a2db5"
      },
      "source": [
        "# Viewing histogram of the number of words per article\r\n",
        "plt.figure(figsize=(15,9))\r\n",
        "plt.hist(doc_sizes, bins=20,range = (0,120))\r\n",
        "plt.xlabel(\"Tokens Per Document\")\r\n",
        "plt.ylabel(\"Number of AG News Articles\")"
      ],
      "execution_count": null,
      "outputs": [
        {
          "output_type": "execute_result",
          "data": {
            "text/plain": [
              "Text(0, 0.5, 'Number of AG News Articles')"
            ]
          },
          "metadata": {
            "tags": []
          },
          "execution_count": 19
        },
        {
          "output_type": "display_data",
          "data": {
            "image/png": "[encoded data removed]",
            "text/plain": [
              "<Figure size 1080x648 with 1 Axes>"
            ]
          },
          "metadata": {
            "tags": [],
            "needs_background": "light"
          }
        }
      ]
    },
    {
      "cell_type": "code",
      "metadata": {
        "id": "m6nzVGrd1-qb",
        "colab": {
          "base_uri": "https://localhost:8080/"
        },
        "outputId": "398a6503-7958-496f-ef85-77d20753c02d"
      },
      "source": [
        "# Checking what percent of documents have less than n words\r\n",
        "n = 30\r\n",
        "print(\"{0:.1%} of documents have less than\".format(sum(i <= n for i in doc_sizes)/ len(doc_sizes)), n, \"words\")"
      ],
      "execution_count": null,
      "outputs": [
        {
          "output_type": "stream",
          "text": [
            "52.6% of documents have less than 30 words\n"
          ],
          "name": "stdout"
        }
      ]
    },
    {
      "cell_type": "markdown",
      "metadata": {
        "id": "M3rfk0KgBnST"
      },
      "source": [
        "If we cap the output_sequence_length to 30 we're getting all of the words in 52% of the documents and truncating 48% of the documents. "
      ]
    },
    {
      "cell_type": "markdown",
      "metadata": {
        "id": "ufYgzEY5DcQc"
      },
      "source": [
        "2. What should be the vocabulary size?"
      ]
    },
    {
      "cell_type": "code",
      "metadata": {
        "colab": {
          "base_uri": "https://localhost:8080/"
        },
        "id": "5FS8GsZKLf-L",
        "outputId": "d4940f26-01ab-4b6b-b38b-c9ed0e33e9e8"
      },
      "source": [
        "# Checking number of words in our corpus\r\n",
        "len(vocab)"
      ],
      "execution_count": null,
      "outputs": [
        {
          "output_type": "execute_result",
          "data": {
            "text/plain": [
              "90800"
            ]
          },
          "metadata": {
            "tags": []
          },
          "execution_count": 21
        }
      ]
    },
    {
      "cell_type": "markdown",
      "metadata": {
        "id": "TAYVvsXNLhsx"
      },
      "source": [
        "There are currently 90k tokens. Let's restrict this. But what level should we restrict it at? Let's start with the top 1k and see what that looks like."
      ]
    },
    {
      "cell_type": "code",
      "metadata": {
        "id": "Z4fN-QeAjCFZ",
        "colab": {
          "base_uri": "https://localhost:8080/"
        },
        "outputId": "3f39d52e-46cb-48fd-aacd-dbf6b3175137"
      },
      "source": [
        "%%time\n",
        "encoder_1000 = tf.keras.layers.experimental.preprocessing.TextVectorization(max_tokens=1000)\n",
        "encoder_1000.adapt(train_dataset.map(lambda text, label: text))\n",
        "vocab_1000 = np.array(encoder_1000.get_vocabulary())"
      ],
      "execution_count": null,
      "outputs": [
        {
          "output_type": "stream",
          "text": [
            "WARNING:tensorflow:AutoGraph could not transform <function <lambda> at 0x7fa8b84ec488> and will run it as-is.\n",
            "Cause: could not parse the source code of <function <lambda> at 0x7fa8b84ec488>: no matching AST found\n",
            "To silence this warning, decorate the function with @tf.autograph.experimental.do_not_convert\n"
          ],
          "name": "stdout"
        },
        {
          "output_type": "stream",
          "text": [
            "WARNING:tensorflow:AutoGraph could not transform <function <lambda> at 0x7fa8b84ec488> and will run it as-is.\n",
            "Cause: could not parse the source code of <function <lambda> at 0x7fa8b84ec488>: no matching AST found\n",
            "To silence this warning, decorate the function with @tf.autograph.experimental.do_not_convert\n"
          ],
          "name": "stderr"
        },
        {
          "output_type": "stream",
          "text": [
            "WARNING: AutoGraph could not transform <function <lambda> at 0x7fa8b84ec488> and will run it as-is.\n",
            "Cause: could not parse the source code of <function <lambda> at 0x7fa8b84ec488>: no matching AST found\n",
            "To silence this warning, decorate the function with @tf.autograph.experimental.do_not_convert\n",
            "CPU times: user 1min 32s, sys: 26.6 s, total: 1min 58s\n",
            "Wall time: 1min 4s\n"
          ],
          "name": "stdout"
        }
      ]
    },
    {
      "cell_type": "markdown",
      "metadata": {
        "id": "8nxuYeKaMHo3"
      },
      "source": [
        "The big question is are we restricting this to too small of a list. If so we'll see a large number of unknown words in our documents. Let's check:"
      ]
    },
    {
      "cell_type": "code",
      "metadata": {
        "id": "JoPf9hvsj5h0",
        "colab": {
          "base_uri": "https://localhost:8080/"
        },
        "outputId": "459d3806-71ff-4d7b-c55f-6c068a901b20"
      },
      "source": [
        "%%time\n",
        "doc1000_sizes = []\n",
        "corpus1000 = []\n",
        "count1000=0\n",
        "useless = 0\n",
        "# stop = 0\n",
        "percents = []\n",
        "for example, _ in train_dataset.as_numpy_iterator():\n",
        "  # stop+=1\n",
        "  # if stop > 5: break\n",
        "  enc_example = encoder_1000(example)\n",
        "  num_ones = tf.math.count_nonzero(enc_example==1).numpy()\n",
        "  percent_ones = round(num_ones*100/len(enc_example))\n",
        "  # print(f\"{percent_ones}%\")\n",
        "  percents.append(percent_ones)\n",
        "\n",
        "  s = set(list(enc_example.numpy()))\n",
        "  if s == {1}: useless+=1\n",
        "\n",
        "  doc1000_sizes.append(len(enc_example))\n",
        "  corpus1000+=list(enc_example.numpy())\n",
        "\n",
        "  count1000 += tf.math.count_nonzero(enc_example>1)"
      ],
      "execution_count": null,
      "outputs": [
        {
          "output_type": "stream",
          "text": [
            "CPU times: user 5min 59s, sys: 6.55 s, total: 6min 6s\n",
            "Wall time: 5min 48s\n"
          ],
          "name": "stdout"
        }
      ]
    },
    {
      "cell_type": "code",
      "metadata": {
        "id": "PPJDd74Hljwz",
        "colab": {
          "base_uri": "https://localhost:8080/"
        },
        "outputId": "e681fca5-ac93-4d3f-f923-36df033522d9"
      },
      "source": [
        "# Plotting to see the distribution of documents by percent of non-vocab words\n",
        "plt.figure(figsize=(15,9))\n",
        "plt.hist(percents, 20)\n",
        "plt.ylabel('Number of Documents')\n",
        "plt.xlabel('Percent of Non-Vocabulary Words in a Document');"
      ],
      "execution_count": null,
      "outputs": [
        {
          "output_type": "display_data",
          "data": {
            "image/png": "[encoded data removed]",
            "text/plain": [
              "<Figure size 1080x648 with 1 Axes>"
            ]
          },
          "metadata": {
            "tags": [],
            "needs_background": "light"
          }
        }
      ]
    },
    {
      "cell_type": "code",
      "metadata": {
        "colab": {
          "base_uri": "https://localhost:8080/"
        },
        "id": "-rSThWcRLIeI",
        "outputId": "f43375cd-5f0c-4ac9-e9b3-af70f0e43b8e"
      },
      "source": [
        "# Checking the median/average value for percent of non-vocab words in a doc\r\n",
        "print(\"Median: \",np.median(percents))\r\n",
        "print(\"Average: \",np.average(percents))"
      ],
      "execution_count": null,
      "outputs": [
        {
          "output_type": "stream",
          "text": [
            "Median:  33.0\n",
            "Average:  33.76071052631579\n"
          ],
          "name": "stdout"
        }
      ]
    },
    {
      "cell_type": "code",
      "metadata": {
        "colab": {
          "base_uri": "https://localhost:8080/"
        },
        "id": "2kMBWMyONK7e",
        "outputId": "094105f3-378d-48cd-9082-daeb48485f37"
      },
      "source": [
        "# Checking what percent of documents have more than n % blank words in the document\r\n",
        "n = 40\r\n",
        "print(\"{0:.1%} of documents have more than\".format(sum(i >= n for i in percents)/ len(percents)), n, \"% blank words\")"
      ],
      "execution_count": null,
      "outputs": [
        {
          "output_type": "stream",
          "text": [
            "26.7% of documents have more than 40 % blank words\n"
          ],
          "name": "stdout"
        }
      ]
    },
    {
      "cell_type": "markdown",
      "metadata": {
        "id": "M1l2nx9UNtrB"
      },
      "source": [
        "We see some data loss when only using the top 1,000. Lets change to the top 100 and see how much worse it gets."
      ]
    },
    {
      "cell_type": "code",
      "metadata": {
        "colab": {
          "base_uri": "https://localhost:8080/"
        },
        "id": "eYl-6mtbN_SM",
        "outputId": "239a9124-0b6d-4fe8-c550-749d1ceb3250"
      },
      "source": [
        "%%time\n",
        "encoder_100 = tf.keras.layers.experimental.preprocessing.TextVectorization(max_tokens=100)\n",
        "encoder_100.adapt(train_dataset.map(lambda text, label: text))\n",
        "vocab_100 = np.array(encoder_100.get_vocabulary())"
      ],
      "execution_count": null,
      "outputs": [
        {
          "output_type": "stream",
          "text": [
            "WARNING:tensorflow:AutoGraph could not transform <function <lambda> at 0x7fa8b21d76a8> and will run it as-is.\n",
            "Cause: could not parse the source code of <function <lambda> at 0x7fa8b21d76a8>: no matching AST found\n",
            "To silence this warning, decorate the function with @tf.autograph.experimental.do_not_convert\n"
          ],
          "name": "stdout"
        },
        {
          "output_type": "stream",
          "text": [
            "WARNING:tensorflow:AutoGraph could not transform <function <lambda> at 0x7fa8b21d76a8> and will run it as-is.\n",
            "Cause: could not parse the source code of <function <lambda> at 0x7fa8b21d76a8>: no matching AST found\n",
            "To silence this warning, decorate the function with @tf.autograph.experimental.do_not_convert\n"
          ],
          "name": "stderr"
        },
        {
          "output_type": "stream",
          "text": [
            "WARNING: AutoGraph could not transform <function <lambda> at 0x7fa8b21d76a8> and will run it as-is.\n",
            "Cause: could not parse the source code of <function <lambda> at 0x7fa8b21d76a8>: no matching AST found\n",
            "To silence this warning, decorate the function with @tf.autograph.experimental.do_not_convert\n",
            "CPU times: user 1min 36s, sys: 26.1 s, total: 2min 2s\n",
            "Wall time: 1min 7s\n"
          ],
          "name": "stdout"
        }
      ]
    },
    {
      "cell_type": "code",
      "metadata": {
        "colab": {
          "base_uri": "https://localhost:8080/"
        },
        "id": "p1iC4MAUN_SU",
        "outputId": "fdce0c57-0582-4024-d485-6c3c24af5a7c"
      },
      "source": [
        "%%time\n",
        "\n",
        "percents100 = []\n",
        "for example, _ in train_dataset.as_numpy_iterator():\n",
        "  enc_example = encoder_100(example)\n",
        "  num_ones = tf.math.count_nonzero(enc_example==1).numpy()\n",
        "  percent_ones = round(num_ones*100/len(enc_example))\n",
        "  percents100.append(percent_ones)"
      ],
      "execution_count": null,
      "outputs": [
        {
          "output_type": "stream",
          "text": [
            "CPU times: user 5min 31s, sys: 7.31 s, total: 5min 38s\n",
            "Wall time: 5min 21s\n"
          ],
          "name": "stdout"
        }
      ]
    },
    {
      "cell_type": "code",
      "metadata": {
        "colab": {
          "base_uri": "https://localhost:8080/"
        },
        "id": "UPasG0ZcN_SU",
        "outputId": "576fbc86-e337-42fe-8623-e6c3f17ca376"
      },
      "source": [
        "# Plotting to see the distribution of documents by percent of non-vocab words\n",
        "plt.figure(figsize=(15,9))\n",
        "plt.hist(percents100, 20)\n",
        "plt.ylabel('Number of Documents')\n",
        "plt.xlabel('Percent of Non-Vocabulary Words in a Document');"
      ],
      "execution_count": null,
      "outputs": [
        {
          "output_type": "display_data",
          "data": {
            "image/png": "[encoded data removed]",
            "text/plain": [
              "<Figure size 1080x648 with 1 Axes>"
            ]
          },
          "metadata": {
            "tags": [],
            "needs_background": "light"
          }
        }
      ]
    },
    {
      "cell_type": "code",
      "metadata": {
        "colab": {
          "base_uri": "https://localhost:8080/"
        },
        "id": "RJLJoZMOQOoN",
        "outputId": "aa6dec72-ecec-408a-9ce8-6efc2911a274"
      },
      "source": [
        "# Checking the median/average value for percent of non-vocab words in a doc\r\n",
        "print(\"Median: \",np.median(percents100))\r\n",
        "print(\"Average: \",np.average(percents100))"
      ],
      "execution_count": null,
      "outputs": [
        {
          "output_type": "stream",
          "text": [
            "Median:  60.0\n",
            "Average:  60.42278947368421\n"
          ],
          "name": "stdout"
        }
      ]
    },
    {
      "cell_type": "code",
      "metadata": {
        "colab": {
          "base_uri": "https://localhost:8080/"
        },
        "id": "qDt-9bkZQOoW",
        "outputId": "083f89a2-8e00-4b9e-8b81-0ecfb6b98367"
      },
      "source": [
        "# Checking what percent of documents have more than n % blank words in the document\r\n",
        "n = 40\r\n",
        "print(\"{0:.1%} of documents have more than\".format(sum(i >= n for i in percents100)/ len(percents100)), n, \"% blank words\")"
      ],
      "execution_count": null,
      "outputs": [
        {
          "output_type": "stream",
          "text": [
            "99.7% of documents have more than 40 % blank words\n"
          ],
          "name": "stdout"
        }
      ]
    },
    {
      "cell_type": "markdown",
      "metadata": {
        "id": "9Uci8zolUxHz"
      },
      "source": [
        "Most documents now have ~60% of the words blank, a definite increase from ~33% with the top 1,000 words. We can see the nonlinear relationship between top N words and the percent of blank words in the average document. By reducing the words by 90% we've only doubled the percent of blank words. <br>\r\n",
        "Clearly using only the top 100 words would be too restrictive."
      ]
    },
    {
      "cell_type": "markdown",
      "metadata": {
        "id": "BzM1rd5jK9kY"
      },
      "source": [
        "3. Should we include the top most common words?<br>\r\n",
        "What effect does removing them have? Does it dramatically increase the blank word count?"
      ]
    },
    {
      "cell_type": "code",
      "metadata": {
        "id": "EEWK20Yr7e6Y",
        "colab": {
          "base_uri": "https://localhost:8080/"
        },
        "outputId": "ab87203b-a112-4a95-8def-e7a8b432ed92"
      },
      "source": [
        "# Checking the top 30 words. Blank and unknown are the two most common as expected\r\n",
        "print(vocab[:30])"
      ],
      "execution_count": null,
      "outputs": [
        {
          "output_type": "stream",
          "text": [
            "['' '[UNK]' 'the' 'a' 'to' 'of' 'in' 'and' 'on' 'for' 'that' '39s' 'with'\n",
            " 'its' 'as' 'at' 'is' 'said' 'by' 'it' 'has' 'new' 'an' 'from' 'his' 'us'\n",
            " 'will' 'was' 'reuters' 'after']\n"
          ],
          "name": "stdout"
        }
      ]
    },
    {
      "cell_type": "code",
      "metadata": {
        "colab": {
          "base_uri": "https://localhost:8080/"
        },
        "id": "oOw0LK4c6u8x",
        "outputId": "4d5c4abe-6722-40a6-8082-ebe798062df4"
      },
      "source": [
        "# Checking the bottom 30 least common words\r\n",
        "print(vocab[-30:])"
      ],
      "execution_count": null,
      "outputs": [
        {
          "output_type": "stream",
          "text": [
            "['022' '021204' '02112004' '020015' '018percent' '018' '0152' '0151' '015'\n",
            " '01473' '0141' '0133' '0125' '0121' '012' '011micron' '0119' '01112004'\n",
            " '011104' '01102004' '011' '0100' '008s' '007percent' '007' '005' '004'\n",
            " '0013' '000th' '000strong']\n"
          ],
          "name": "stdout"
        }
      ]
    },
    {
      "cell_type": "markdown",
      "metadata": {
        "id": "yR8yvQErGfgN"
      },
      "source": [
        "###Final Text Encoding\r\n",
        "Based on the results of Experiment A we'll create one final embedding with what we've learned:\r\n",
        "*   Including the top words\r\n",
        "*   Output Sequence = 30\r\n",
        "*   Max tokens = 5,000\r\n",
        "\r\n"
      ]
    },
    {
      "cell_type": "code",
      "metadata": {
        "id": "3LnnDUMiQQQz",
        "colab": {
          "base_uri": "https://localhost:8080/"
        },
        "outputId": "94004c85-60ee-40b3-aa9d-6d3a1196b8a6"
      },
      "source": [
        "%%time\r\n",
        "encoder = tf.keras.layers.experimental.preprocessing.TextVectorization(max_tokens=5000, output_sequence_length= 30)\r\n",
        "encoder.adapt(train_dataset.map(lambda text, label: text))\r\n",
        "\r\n",
        "vocab = np.array(encoder.get_vocabulary())"
      ],
      "execution_count": null,
      "outputs": [
        {
          "output_type": "stream",
          "text": [
            "WARNING:tensorflow:AutoGraph could not transform <function <lambda> at 0x7fa92d50e0d0> and will run it as-is.\n",
            "Cause: could not parse the source code of <function <lambda> at 0x7fa92d50e0d0>: no matching AST found\n",
            "To silence this warning, decorate the function with @tf.autograph.experimental.do_not_convert\n"
          ],
          "name": "stdout"
        },
        {
          "output_type": "stream",
          "text": [
            "WARNING:tensorflow:AutoGraph could not transform <function <lambda> at 0x7fa92d50e0d0> and will run it as-is.\n",
            "Cause: could not parse the source code of <function <lambda> at 0x7fa92d50e0d0>: no matching AST found\n",
            "To silence this warning, decorate the function with @tf.autograph.experimental.do_not_convert\n"
          ],
          "name": "stderr"
        },
        {
          "output_type": "stream",
          "text": [
            "WARNING: AutoGraph could not transform <function <lambda> at 0x7fa92d50e0d0> and will run it as-is.\n",
            "Cause: could not parse the source code of <function <lambda> at 0x7fa92d50e0d0>: no matching AST found\n",
            "To silence this warning, decorate the function with @tf.autograph.experimental.do_not_convert\n",
            "CPU times: user 1min 43s, sys: 26.5 s, total: 2min 9s\n",
            "Wall time: 1min 13s\n"
          ],
          "name": "stdout"
        }
      ]
    },
    {
      "cell_type": "code",
      "metadata": {
        "id": "dDsCaZCDYZgm"
      },
      "source": [
        "BUFFER_SIZE = 10000\n",
        "BATCH_SIZE = 64"
      ],
      "execution_count": null,
      "outputs": []
    },
    {
      "cell_type": "code",
      "metadata": {
        "id": "VznrltNOnUc5"
      },
      "source": [
        "train_dataset = train_dataset.shuffle(BUFFER_SIZE).batch(BATCH_SIZE).prefetch(tf.data.experimental.AUTOTUNE)\n",
        "validation_dataset = validation_dataset.shuffle(BUFFER_SIZE).batch(BATCH_SIZE).prefetch(tf.data.experimental.AUTOTUNE)\n",
        "test_dataset = test_dataset.batch(BATCH_SIZE).prefetch(tf.data.experimental.AUTOTUNE)"
      ],
      "execution_count": null,
      "outputs": []
    },
    {
      "cell_type": "markdown",
      "metadata": {
        "id": "VGYyYKndJP0E"
      },
      "source": [
        "## Experiment B - RNN\r\n",
        "We'll try several experiments by tweaking (i) architecture (ii) Bidirectional/unidirectional & other hyper parameters, including regularization.\r\n",
        "1.    Simple RNN\r\n",
        "2.    1 Layer GRU\r\n",
        "3.    1 Layer Bidirectional GRU\r\n",
        "4.    1 Layer Bidirectional GRU with Dropout   "
      ]
    },
    {
      "cell_type": "markdown",
      "metadata": {
        "id": "iHvBzmH7g5el"
      },
      "source": [
        "We'll start with a few functions to make things easier to repeat. \r\n",
        "In order to be able to compare across experiments we'll keep some parameters the same. To do this we'll use some formulas so that all of our models compile and fit the same way.\r\n",
        "We will also want to print all of the results and record the time it takes the models to run."
      ]
    },
    {
      "cell_type": "code",
      "metadata": {
        "id": "YJOTY2pWec35"
      },
      "source": [
        "def compile_and_fit(model_n):\r\n",
        "  start = datetime.now()\r\n",
        "  model_n.compile(optimizer=tf.keras.optimizers.RMSprop()\r\n",
        "              ,loss=tf.keras.losses.SparseCategoricalCrossentropy()\r\n",
        "              ,metrics=['accuracy'])\r\n",
        "  history_n = model_n.fit(train_dataset\r\n",
        "                    ,epochs = 10\r\n",
        "                    ,validation_data=validation_dataset\r\n",
        "                    )\r\n",
        "  end = datetime.now()\r\n",
        "  time_n = end - start\r\n",
        "  return history_n, time_n"
      ],
      "execution_count": null,
      "outputs": []
    },
    {
      "cell_type": "code",
      "metadata": {
        "id": "Eo-ys7bNN9ow"
      },
      "source": [
        "# Creating a function to allow for easier plotting\r\n",
        "def plot_model_history(model_history):\r\n",
        "    fig, axs = plt.subplots(1,2,figsize=(15,5))\r\n",
        "    # summarize history for accuracy\r\n",
        "    axs[0].plot(range(1,len(model_history.history['accuracy'])+1),model_history.history['accuracy'])\r\n",
        "    axs[0].plot(range(1,len(model_history.history['val_accuracy'])+1),model_history.history['val_accuracy'])\r\n",
        "    axs[0].set_title('Model Accuracy')\r\n",
        "    axs[0].set_ylabel('Accuracy')\r\n",
        "    axs[0].set_xlabel('Epoch')\r\n",
        "    axs[0].set_xticks(np.arange(1,len(model_history.history['accuracy'])+1),len(model_history.history['accuracy'])/10)\r\n",
        "    axs[0].legend(['train', 'val'], loc='best')\r\n",
        "    # summarize history for loss\r\n",
        "    axs[1].plot(range(1,len(model_history.history['loss'])+1),model_history.history['loss'])\r\n",
        "    axs[1].plot(range(1,len(model_history.history['val_loss'])+1),model_history.history['val_loss'])\r\n",
        "    axs[1].set_title('Model Loss')\r\n",
        "    axs[1].set_ylabel('Loss')\r\n",
        "    axs[1].set_xlabel('Epoch')\r\n",
        "    axs[1].set_xticks(np.arange(1,len(model_history.history['loss'])+1),len(model_history.history['loss'])/10)\r\n",
        "    axs[1].legend(['train', 'val'], loc='best')\r\n",
        "    plt.show()"
      ],
      "execution_count": null,
      "outputs": []
    },
    {
      "cell_type": "markdown",
      "metadata": {
        "id": "0VHzwWDZd2-p"
      },
      "source": [
        "### 1. Simple RNN"
      ]
    },
    {
      "cell_type": "code",
      "metadata": {
        "id": "bVa4XoUvQQLU"
      },
      "source": [
        "# Starting with a simple RNN\r\n",
        "model_1 = tf.keras.Sequential([\r\n",
        "                              encoder\r\n",
        "                              ,tf.keras.layers.Embedding(input_dim=len(encoder.get_vocabulary())\r\n",
        "                              ,output_dim=32)\r\n",
        "                              ,tf.keras.layers.SimpleRNN(32)\r\n",
        "                              ,tf.keras.layers.Dense(64, activation='relu')\r\n",
        "                              ,tf.keras.layers.Dense(4,activation='softmax')\r\n",
        "])"
      ],
      "execution_count": null,
      "outputs": []
    },
    {
      "cell_type": "code",
      "metadata": {
        "colab": {
          "base_uri": "https://localhost:8080/"
        },
        "id": "9ov2G_XOslAt",
        "outputId": "808886cc-d9cc-4953-8483-c7687fb2d73c"
      },
      "source": [
        "history_1, time_1 = compile_and_fit(model_1)"
      ],
      "execution_count": null,
      "outputs": [
        {
          "output_type": "stream",
          "text": [
            "Epoch 1/10\n",
            "1782/1782 [==============================] - 19s 10ms/step - loss: 0.7993 - accuracy: 0.6619 - val_loss: 0.4610 - val_accuracy: 0.8437\n",
            "Epoch 2/10\n",
            "1782/1782 [==============================] - 17s 10ms/step - loss: 0.3839 - accuracy: 0.8690 - val_loss: 0.3821 - val_accuracy: 0.8695\n",
            "Epoch 3/10\n",
            "1782/1782 [==============================] - 18s 10ms/step - loss: 0.3381 - accuracy: 0.8847 - val_loss: 0.4211 - val_accuracy: 0.8580\n",
            "Epoch 4/10\n",
            "1782/1782 [==============================] - 20s 11ms/step - loss: 0.3135 - accuracy: 0.8945 - val_loss: 0.4119 - val_accuracy: 0.8703\n",
            "Epoch 5/10\n",
            "1782/1782 [==============================] - 20s 11ms/step - loss: 0.2964 - accuracy: 0.8989 - val_loss: 0.4168 - val_accuracy: 0.8712\n",
            "Epoch 6/10\n",
            "1782/1782 [==============================] - 18s 10ms/step - loss: 0.2787 - accuracy: 0.9060 - val_loss: 0.3913 - val_accuracy: 0.8695\n",
            "Epoch 7/10\n",
            "1782/1782 [==============================] - 18s 10ms/step - loss: 0.2645 - accuracy: 0.9119 - val_loss: 0.3614 - val_accuracy: 0.8827\n",
            "Epoch 8/10\n",
            "1782/1782 [==============================] - 18s 10ms/step - loss: 0.2485 - accuracy: 0.9158 - val_loss: 0.4511 - val_accuracy: 0.8525\n",
            "Epoch 9/10\n",
            "1782/1782 [==============================] - 18s 10ms/step - loss: 0.2372 - accuracy: 0.9204 - val_loss: 0.3877 - val_accuracy: 0.8748\n",
            "Epoch 10/10\n",
            "1782/1782 [==============================] - 18s 10ms/step - loss: 0.2224 - accuracy: 0.9262 - val_loss: 0.4395 - val_accuracy: 0.8668\n"
          ],
          "name": "stdout"
        }
      ]
    },
    {
      "cell_type": "code",
      "metadata": {
        "colab": {
          "base_uri": "https://localhost:8080/"
        },
        "id": "cDh0QCxKslAw",
        "outputId": "9df059cc-bf62-46e2-83fc-cc39dbe56325"
      },
      "source": [
        "plot_model_history(history_1)"
      ],
      "execution_count": null,
      "outputs": [
        {
          "output_type": "display_data",
          "data": {
            "image/png": "[encoded data removed]",
            "text/plain": [
              "<Figure size 1080x360 with 2 Axes>"
            ]
          },
          "metadata": {
            "tags": [],
            "needs_background": "light"
          }
        }
      ]
    },
    {
      "cell_type": "markdown",
      "metadata": {
        "id": "r1t-uxE3XfOx"
      },
      "source": [
        "### 2. 1 Layer GRU Model"
      ]
    },
    {
      "cell_type": "code",
      "metadata": {
        "id": "-VeE43aaQQB8"
      },
      "source": [
        "model_2 = tf.keras.Sequential([\r\n",
        "                              encoder\r\n",
        "                              ,tf.keras.layers.Embedding(input_dim=len(encoder.get_vocabulary())\r\n",
        "                              ,output_dim=32)\r\n",
        "                              ,tf.keras.layers.GRU(32)\r\n",
        "                              ,tf.keras.layers.Dense(64, activation='relu')\r\n",
        "                              ,tf.keras.layers.Dense(4,activation='softmax')\r\n",
        "])"
      ],
      "execution_count": null,
      "outputs": []
    },
    {
      "cell_type": "code",
      "metadata": {
        "colab": {
          "base_uri": "https://localhost:8080/"
        },
        "id": "m5r061khs6Ue",
        "outputId": "d8684819-6c1c-41ac-c1aa-8f81f70905a5"
      },
      "source": [
        "history_2, time_2 = compile_and_fit(model_2)"
      ],
      "execution_count": null,
      "outputs": [
        {
          "output_type": "stream",
          "text": [
            "Epoch 1/10\n",
            "1782/1782 [==============================] - 36s 19ms/step - loss: 0.7968 - accuracy: 0.6423 - val_loss: 0.4055 - val_accuracy: 0.8645\n",
            "Epoch 2/10\n",
            "1782/1782 [==============================] - 32s 18ms/step - loss: 0.3434 - accuracy: 0.8844 - val_loss: 0.3323 - val_accuracy: 0.8932\n",
            "Epoch 3/10\n",
            "1782/1782 [==============================] - 31s 17ms/step - loss: 0.3017 - accuracy: 0.8987 - val_loss: 0.3220 - val_accuracy: 0.8935\n",
            "Epoch 4/10\n",
            "1782/1782 [==============================] - 31s 17ms/step - loss: 0.2879 - accuracy: 0.9022 - val_loss: 0.3159 - val_accuracy: 0.8977\n",
            "Epoch 5/10\n",
            "1782/1782 [==============================] - 30s 17ms/step - loss: 0.2805 - accuracy: 0.9038 - val_loss: 0.3102 - val_accuracy: 0.8987\n",
            "Epoch 6/10\n",
            "1782/1782 [==============================] - 30s 17ms/step - loss: 0.2716 - accuracy: 0.9067 - val_loss: 0.3001 - val_accuracy: 0.9017\n",
            "Epoch 7/10\n",
            "1782/1782 [==============================] - 33s 18ms/step - loss: 0.2661 - accuracy: 0.9085 - val_loss: 0.3024 - val_accuracy: 0.9005\n",
            "Epoch 8/10\n",
            "1782/1782 [==============================] - 30s 17ms/step - loss: 0.2567 - accuracy: 0.9124 - val_loss: 0.3146 - val_accuracy: 0.8933\n",
            "Epoch 9/10\n",
            "1782/1782 [==============================] - 29s 16ms/step - loss: 0.2513 - accuracy: 0.9138 - val_loss: 0.3047 - val_accuracy: 0.9007\n",
            "Epoch 10/10\n",
            "1782/1782 [==============================] - 29s 16ms/step - loss: 0.2447 - accuracy: 0.9153 - val_loss: 0.3050 - val_accuracy: 0.8990\n"
          ],
          "name": "stdout"
        }
      ]
    },
    {
      "cell_type": "code",
      "metadata": {
        "colab": {
          "base_uri": "https://localhost:8080/"
        },
        "id": "KEHVnv9bs6Ui",
        "outputId": "ced3a535-72a7-4e2d-9098-521926ff3d1a"
      },
      "source": [
        "plot_model_history(history_2)"
      ],
      "execution_count": null,
      "outputs": [
        {
          "output_type": "display_data",
          "data": {
            "image/png": "[encoded data removed]",
            "text/plain": [
              "<Figure size 1080x360 with 2 Axes>"
            ]
          },
          "metadata": {
            "tags": [],
            "needs_background": "light"
          }
        }
      ]
    },
    {
      "cell_type": "markdown",
      "metadata": {
        "id": "AycZiAaDaxDy"
      },
      "source": [
        "### 3. 1 Layer BiDirectional GRU Model"
      ]
    },
    {
      "cell_type": "code",
      "metadata": {
        "id": "LxMwwnwGaxDy"
      },
      "source": [
        "model_3 = tf.keras.Sequential([\r\n",
        "                              encoder\r\n",
        "                              ,tf.keras.layers.Embedding(input_dim=len(encoder.get_vocabulary())\r\n",
        "                              ,output_dim=64)\r\n",
        "                              ,tf.keras.layers.Bidirectional(tf.keras.layers.GRU(64))\r\n",
        "                              ,tf.keras.layers.Dense(64, activation='relu')\r\n",
        "                              ,tf.keras.layers.Dense(4,activation='softmax')\r\n",
        "])"
      ],
      "execution_count": null,
      "outputs": []
    },
    {
      "cell_type": "code",
      "metadata": {
        "colab": {
          "base_uri": "https://localhost:8080/"
        },
        "id": "JbtrF_DetWu_",
        "outputId": "dc992f41-9ecf-47f9-84cd-29aacfdc32bd"
      },
      "source": [
        "history_3, time_3 = compile_and_fit(model_3)"
      ],
      "execution_count": null,
      "outputs": [
        {
          "output_type": "stream",
          "text": [
            "Epoch 1/10\n",
            "1782/1782 [==============================] - 66s 35ms/step - loss: 0.5473 - accuracy: 0.7864 - val_loss: 0.3307 - val_accuracy: 0.8855\n",
            "Epoch 2/10\n",
            "1782/1782 [==============================] - 60s 34ms/step - loss: 0.2963 - accuracy: 0.8976 - val_loss: 0.3045 - val_accuracy: 0.8952\n",
            "Epoch 3/10\n",
            "1782/1782 [==============================] - 61s 34ms/step - loss: 0.2718 - accuracy: 0.9057 - val_loss: 0.2907 - val_accuracy: 0.9015\n",
            "Epoch 4/10\n",
            "1782/1782 [==============================] - 66s 37ms/step - loss: 0.2558 - accuracy: 0.9108 - val_loss: 0.3027 - val_accuracy: 0.9032\n",
            "Epoch 5/10\n",
            "1782/1782 [==============================] - 60s 34ms/step - loss: 0.2428 - accuracy: 0.9157 - val_loss: 0.2941 - val_accuracy: 0.9013\n",
            "Epoch 6/10\n",
            "1782/1782 [==============================] - 63s 35ms/step - loss: 0.2314 - accuracy: 0.9202 - val_loss: 0.2972 - val_accuracy: 0.9027\n",
            "Epoch 7/10\n",
            "1782/1782 [==============================] - 61s 34ms/step - loss: 0.2206 - accuracy: 0.9246 - val_loss: 0.3019 - val_accuracy: 0.9007\n",
            "Epoch 8/10\n",
            "1782/1782 [==============================] - 63s 35ms/step - loss: 0.2100 - accuracy: 0.9282 - val_loss: 0.3171 - val_accuracy: 0.8920\n",
            "Epoch 9/10\n",
            "1782/1782 [==============================] - 66s 37ms/step - loss: 0.1979 - accuracy: 0.9313 - val_loss: 0.3156 - val_accuracy: 0.8985\n",
            "Epoch 10/10\n",
            "1782/1782 [==============================] - 59s 33ms/step - loss: 0.1842 - accuracy: 0.9361 - val_loss: 0.3272 - val_accuracy: 0.8983\n"
          ],
          "name": "stdout"
        }
      ]
    },
    {
      "cell_type": "code",
      "metadata": {
        "colab": {
          "base_uri": "https://localhost:8080/"
        },
        "id": "xlifSkaXtWvD",
        "outputId": "8aef655b-1062-49a5-e939-7a293d1c5e6e"
      },
      "source": [
        "plot_model_history(history_3)"
      ],
      "execution_count": null,
      "outputs": [
        {
          "output_type": "display_data",
          "data": {
            "image/png": "[encoded data removed]",
            "text/plain": [
              "<Figure size 1080x360 with 2 Axes>"
            ]
          },
          "metadata": {
            "tags": [],
            "needs_background": "light"
          }
        }
      ]
    },
    {
      "cell_type": "markdown",
      "metadata": {
        "id": "EEDe0ZRRd_cr"
      },
      "source": [
        "This model is overfitting our data."
      ]
    },
    {
      "cell_type": "markdown",
      "metadata": {
        "id": "ja5avj3KiOOb"
      },
      "source": [
        "### 4. 1 Layer BiDirectional GRU Model with Dropout"
      ]
    },
    {
      "cell_type": "code",
      "metadata": {
        "id": "L7cH9ZA2hqAP"
      },
      "source": [
        "model_4 = tf.keras.Sequential([\r\n",
        "                              encoder\r\n",
        "                              ,tf.keras.layers.Embedding(input_dim=len(encoder.get_vocabulary())\r\n",
        "                              ,output_dim=32)\r\n",
        "                              ,tf.keras.layers.Bidirectional(tf.keras.layers.GRU(64, dropout=0.2,\r\n",
        "                     recurrent_dropout=0.2))\r\n",
        "                              ,tf.keras.layers.Dense(64, activation='relu')\r\n",
        "                              ,tf.keras.layers.Dense(4,activation='softmax')\r\n",
        "])"
      ],
      "execution_count": null,
      "outputs": []
    },
    {
      "cell_type": "code",
      "metadata": {
        "colab": {
          "base_uri": "https://localhost:8080/"
        },
        "id": "uoC3QzSAhp8k",
        "outputId": "acbd511a-9503-45c1-d314-6f8636060ceb"
      },
      "source": [
        "history_4, time_4 = compile_and_fit(model_4)"
      ],
      "execution_count": null,
      "outputs": [
        {
          "output_type": "stream",
          "text": [
            "Epoch 1/10\n",
            "1782/1782 [==============================] - 110s 59ms/step - loss: 0.6643 - accuracy: 0.7218 - val_loss: 0.3361 - val_accuracy: 0.8863\n",
            "Epoch 2/10\n",
            "1782/1782 [==============================] - 103s 58ms/step - loss: 0.3138 - accuracy: 0.8930 - val_loss: 0.3094 - val_accuracy: 0.8960\n",
            "Epoch 3/10\n",
            "1782/1782 [==============================] - 109s 61ms/step - loss: 0.2904 - accuracy: 0.8996 - val_loss: 0.2956 - val_accuracy: 0.8992\n",
            "Epoch 4/10\n",
            "1782/1782 [==============================] - 103s 58ms/step - loss: 0.2778 - accuracy: 0.9031 - val_loss: 0.3183 - val_accuracy: 0.8953\n",
            "Epoch 5/10\n",
            "1782/1782 [==============================] - 101s 57ms/step - loss: 0.2703 - accuracy: 0.9059 - val_loss: 0.2896 - val_accuracy: 0.9013\n",
            "Epoch 6/10\n",
            "1782/1782 [==============================] - 106s 60ms/step - loss: 0.2624 - accuracy: 0.9089 - val_loss: 0.2934 - val_accuracy: 0.9008\n",
            "Epoch 7/10\n",
            "1782/1782 [==============================] - 106s 59ms/step - loss: 0.2551 - accuracy: 0.9109 - val_loss: 0.2958 - val_accuracy: 0.9007\n",
            "Epoch 8/10\n",
            "1782/1782 [==============================] - 107s 60ms/step - loss: 0.2528 - accuracy: 0.9120 - val_loss: 0.2859 - val_accuracy: 0.9045\n",
            "Epoch 9/10\n",
            "1782/1782 [==============================] - 109s 61ms/step - loss: 0.2469 - accuracy: 0.9143 - val_loss: 0.2818 - val_accuracy: 0.9072\n",
            "Epoch 10/10\n",
            "1782/1782 [==============================] - 104s 59ms/step - loss: 0.2422 - accuracy: 0.9168 - val_loss: 0.3021 - val_accuracy: 0.9003\n"
          ],
          "name": "stdout"
        }
      ]
    },
    {
      "cell_type": "code",
      "metadata": {
        "colab": {
          "base_uri": "https://localhost:8080/"
        },
        "id": "3SocboL0hp5G",
        "outputId": "130b985f-7bfb-41e8-baa3-d10529452ca5"
      },
      "source": [
        "plot_model_history(history_4)"
      ],
      "execution_count": null,
      "outputs": [
        {
          "output_type": "display_data",
          "data": {
            "image/png": "[encoded data removed]",
            "text/plain": [
              "<Figure size 1080x360 with 2 Axes>"
            ]
          },
          "metadata": {
            "tags": [],
            "needs_background": "light"
          }
        }
      ]
    },
    {
      "cell_type": "markdown",
      "metadata": {
        "id": "cYXlbf7UyjSk"
      },
      "source": [
        "That looks alot better. We've increased in accuracy and don't appear to be overfitting as bad (at least not until the last epoch). We could possibly stand to increase the model complexity to see if we can get better accuracy."
      ]
    },
    {
      "cell_type": "markdown",
      "metadata": {
        "id": "HJjzF21My3yz"
      },
      "source": [
        "## Experiment C - LSTM\r\n",
        "Now let's change to LSTM models and see what results we get.\r\n",
        "5.    1 Layer LSTM\r\n",
        "6.    1 Layer Bidirectional LSTM\r\n",
        "7.    1 Layer Bidirectional LSTM with Dropout "
      ]
    },
    {
      "cell_type": "markdown",
      "metadata": {
        "id": "MpcMc8LbzDQg"
      },
      "source": [
        "### 5. 1 Layer LSTM Model"
      ]
    },
    {
      "cell_type": "code",
      "metadata": {
        "id": "0x9SOKgyzDQh"
      },
      "source": [
        "model_5 = tf.keras.Sequential([\r\n",
        "                              encoder\r\n",
        "                              ,tf.keras.layers.Embedding(input_dim=len(encoder.get_vocabulary())\r\n",
        "                              ,output_dim=64)\r\n",
        "                              ,tf.keras.layers.LSTM(64)\r\n",
        "                              ,tf.keras.layers.Dense(64, activation='relu')\r\n",
        "                              ,tf.keras.layers.Dense(4,activation='softmax')\r\n",
        "])"
      ],
      "execution_count": null,
      "outputs": []
    },
    {
      "cell_type": "code",
      "metadata": {
        "colab": {
          "base_uri": "https://localhost:8080/"
        },
        "id": "QgrqjvuJzDQj",
        "outputId": "c80c081f-9a59-4f47-ef73-8dfee23223ed"
      },
      "source": [
        "history_5, time_5 = compile_and_fit(model_5)"
      ],
      "execution_count": null,
      "outputs": [
        {
          "output_type": "stream",
          "text": [
            "Epoch 1/10\n",
            "1782/1782 [==============================] - 55s 29ms/step - loss: 0.5827 - accuracy: 0.7653 - val_loss: 0.3485 - val_accuracy: 0.8838\n",
            "Epoch 2/10\n",
            "1782/1782 [==============================] - 52s 29ms/step - loss: 0.3094 - accuracy: 0.8954 - val_loss: 0.3099 - val_accuracy: 0.8945\n",
            "Epoch 3/10\n",
            "1782/1782 [==============================] - 54s 30ms/step - loss: 0.2882 - accuracy: 0.9018 - val_loss: 0.3115 - val_accuracy: 0.8967\n",
            "Epoch 4/10\n",
            "1782/1782 [==============================] - 54s 30ms/step - loss: 0.2762 - accuracy: 0.9058 - val_loss: 0.3233 - val_accuracy: 0.8887\n",
            "Epoch 5/10\n",
            "1782/1782 [==============================] - 54s 30ms/step - loss: 0.2632 - accuracy: 0.9102 - val_loss: 0.2972 - val_accuracy: 0.8997\n",
            "Epoch 6/10\n",
            "1782/1782 [==============================] - 54s 30ms/step - loss: 0.2505 - accuracy: 0.9151 - val_loss: 0.3105 - val_accuracy: 0.8952\n",
            "Epoch 7/10\n",
            "1782/1782 [==============================] - 54s 30ms/step - loss: 0.2397 - accuracy: 0.9174 - val_loss: 0.3247 - val_accuracy: 0.8952\n",
            "Epoch 8/10\n",
            "1782/1782 [==============================] - 53s 30ms/step - loss: 0.2283 - accuracy: 0.9227 - val_loss: 0.3040 - val_accuracy: 0.9028\n",
            "Epoch 9/10\n",
            "1782/1782 [==============================] - 57s 32ms/step - loss: 0.2199 - accuracy: 0.9250 - val_loss: 0.3212 - val_accuracy: 0.8968\n",
            "Epoch 10/10\n",
            "1782/1782 [==============================] - 55s 31ms/step - loss: 0.2117 - accuracy: 0.9286 - val_loss: 0.3223 - val_accuracy: 0.8965\n"
          ],
          "name": "stdout"
        }
      ]
    },
    {
      "cell_type": "code",
      "metadata": {
        "colab": {
          "base_uri": "https://localhost:8080/"
        },
        "id": "NSE0ZeA-zDQl",
        "outputId": "9f4de31b-2111-440b-a60f-119162ea6da8"
      },
      "source": [
        "plot_model_history(history_5)"
      ],
      "execution_count": null,
      "outputs": [
        {
          "output_type": "display_data",
          "data": {
            "image/png": "[encoded data removed]",
            "text/plain": [
              "<Figure size 1080x360 with 2 Axes>"
            ]
          },
          "metadata": {
            "tags": [],
            "needs_background": "light"
          }
        }
      ]
    },
    {
      "cell_type": "code",
      "metadata": {
        "id": "e04heXPJjMjS",
        "colab": {
          "base_uri": "https://localhost:8080/"
        },
        "outputId": "74cc9563-52a8-43e2-da7d-f3c97e1a8b25"
      },
      "source": [
        "model_5.summary()"
      ],
      "execution_count": null,
      "outputs": [
        {
          "output_type": "stream",
          "text": [
            "Model: \"sequential_4\"\n",
            "_________________________________________________________________\n",
            "Layer (type)                 Output Shape              Param #   \n",
            "=================================================================\n",
            "text_vectorization_3 (TextVe (None, 30)                0         \n",
            "_________________________________________________________________\n",
            "embedding_4 (Embedding)      (None, 30, 64)            320000    \n",
            "_________________________________________________________________\n",
            "lstm (LSTM)                  (None, 64)                33024     \n",
            "_________________________________________________________________\n",
            "dense_8 (Dense)              (None, 64)                4160      \n",
            "_________________________________________________________________\n",
            "dense_9 (Dense)              (None, 4)                 260       \n",
            "=================================================================\n",
            "Total params: 357,444\n",
            "Trainable params: 357,444\n",
            "Non-trainable params: 0\n",
            "_________________________________________________________________\n"
          ],
          "name": "stdout"
        }
      ]
    },
    {
      "cell_type": "markdown",
      "metadata": {
        "id": "0HcV7u6qzDQn"
      },
      "source": [
        "Notes on results..."
      ]
    },
    {
      "cell_type": "markdown",
      "metadata": {
        "id": "7RxVNIYsfz9d"
      },
      "source": [
        "### 6. 1 Layer BiDirectional LSTM Model"
      ]
    },
    {
      "cell_type": "code",
      "metadata": {
        "id": "tQ4AnAzEfz9j"
      },
      "source": [
        "model_6 = tf.keras.Sequential([\r\n",
        "                              encoder\r\n",
        "                              ,tf.keras.layers.Embedding(input_dim=len(encoder.get_vocabulary())\r\n",
        "                              ,output_dim=64)\r\n",
        "                              ,tf.keras.layers.Bidirectional(tf.keras.layers.LSTM(64))\r\n",
        "                              ,tf.keras.layers.Dense(64, activation='relu')\r\n",
        "                              ,tf.keras.layers.Dense(4,activation='softmax')\r\n",
        "])"
      ],
      "execution_count": null,
      "outputs": []
    },
    {
      "cell_type": "code",
      "metadata": {
        "colab": {
          "base_uri": "https://localhost:8080/"
        },
        "id": "PDMquPK9fz9m",
        "outputId": "7c086597-554b-4ed2-b380-30721e9027a7"
      },
      "source": [
        "history_6, time_6 = compile_and_fit(model_6)"
      ],
      "execution_count": null,
      "outputs": [
        {
          "output_type": "stream",
          "text": [
            "Epoch 1/10\n",
            "1782/1782 [==============================] - 71s 37ms/step - loss: 0.5357 - accuracy: 0.7941 - val_loss: 0.3328 - val_accuracy: 0.8908\n",
            "Epoch 2/10\n",
            "1782/1782 [==============================] - 69s 38ms/step - loss: 0.2954 - accuracy: 0.8988 - val_loss: 0.2984 - val_accuracy: 0.8970\n",
            "Epoch 3/10\n",
            "1782/1782 [==============================] - 68s 38ms/step - loss: 0.2708 - accuracy: 0.9063 - val_loss: 0.3189 - val_accuracy: 0.8940\n",
            "Epoch 4/10\n",
            "1782/1782 [==============================] - 71s 40ms/step - loss: 0.2560 - accuracy: 0.9111 - val_loss: 0.2933 - val_accuracy: 0.9015\n",
            "Epoch 5/10\n",
            "1782/1782 [==============================] - 68s 38ms/step - loss: 0.2433 - accuracy: 0.9160 - val_loss: 0.2895 - val_accuracy: 0.9038\n",
            "Epoch 6/10\n",
            "1782/1782 [==============================] - 67s 38ms/step - loss: 0.2302 - accuracy: 0.9206 - val_loss: 0.2995 - val_accuracy: 0.9005\n",
            "Epoch 7/10\n",
            "1782/1782 [==============================] - 67s 38ms/step - loss: 0.2204 - accuracy: 0.9248 - val_loss: 0.3035 - val_accuracy: 0.9003\n",
            "Epoch 8/10\n",
            "1782/1782 [==============================] - 67s 38ms/step - loss: 0.2058 - accuracy: 0.9291 - val_loss: 0.3301 - val_accuracy: 0.8897\n",
            "Epoch 9/10\n",
            "1782/1782 [==============================] - 71s 40ms/step - loss: 0.1941 - accuracy: 0.9340 - val_loss: 0.3494 - val_accuracy: 0.8975\n",
            "Epoch 10/10\n",
            "1782/1782 [==============================] - 68s 38ms/step - loss: 0.1824 - accuracy: 0.9384 - val_loss: 0.3259 - val_accuracy: 0.8952\n"
          ],
          "name": "stdout"
        }
      ]
    },
    {
      "cell_type": "code",
      "metadata": {
        "colab": {
          "base_uri": "https://localhost:8080/"
        },
        "id": "FDfN7Emjfz9u",
        "outputId": "85e508f8-e5f3-4a21-9b14-29703da61dc2"
      },
      "source": [
        "plot_model_history(history_6)"
      ],
      "execution_count": null,
      "outputs": [
        {
          "output_type": "display_data",
          "data": {
            "image/png": "[encoded data removed]",
            "text/plain": [
              "<Figure size 1080x360 with 2 Axes>"
            ]
          },
          "metadata": {
            "tags": [],
            "needs_background": "light"
          }
        }
      ]
    },
    {
      "cell_type": "markdown",
      "metadata": {
        "id": "azJuZtdWkAGQ"
      },
      "source": [
        "We're very clearly overfitting at this point. Let's incorporate some dropout in the next experiment to see if that helps."
      ]
    },
    {
      "cell_type": "markdown",
      "metadata": {
        "id": "WF3sFk4DgS4X"
      },
      "source": [
        "### 7. 1 Layer BiDirectional LSTM Model with Dropout"
      ]
    },
    {
      "cell_type": "code",
      "metadata": {
        "id": "xCZGJGxZgS4a"
      },
      "source": [
        "model_7 = tf.keras.Sequential([\r\n",
        "                              encoder\r\n",
        "                              ,tf.keras.layers.Embedding(input_dim=len(encoder.get_vocabulary())\r\n",
        "                              ,output_dim=64)\r\n",
        "                              ,tf.keras.layers.Bidirectional(tf.keras.layers.LSTM(64, dropout=0.2,\r\n",
        "                     recurrent_dropout=0.2))\r\n",
        "                              ,tf.keras.layers.Dense(64, activation='relu')\r\n",
        "                              ,tf.keras.layers.Dense(4,activation='softmax')\r\n",
        "])"
      ],
      "execution_count": null,
      "outputs": []
    },
    {
      "cell_type": "code",
      "metadata": {
        "colab": {
          "base_uri": "https://localhost:8080/"
        },
        "id": "9Z_YCd-6gS4d",
        "outputId": "4bf9eeaa-1733-406d-be32-ab8735a4b9f8"
      },
      "source": [
        "history_7, time_7 = compile_and_fit(model_7)"
      ],
      "execution_count": null,
      "outputs": [
        {
          "output_type": "stream",
          "text": [
            "Epoch 1/10\n",
            "1782/1782 [==============================] - 146s 79ms/step - loss: 0.5520 - accuracy: 0.7847 - val_loss: 0.3339 - val_accuracy: 0.8853\n",
            "Epoch 2/10\n",
            "1782/1782 [==============================] - 140s 78ms/step - loss: 0.3033 - accuracy: 0.8957 - val_loss: 0.3038 - val_accuracy: 0.8978\n",
            "Epoch 3/10\n",
            "1782/1782 [==============================] - 136s 76ms/step - loss: 0.2800 - accuracy: 0.9036 - val_loss: 0.2945 - val_accuracy: 0.9017\n",
            "Epoch 4/10\n",
            "1782/1782 [==============================] - 142s 80ms/step - loss: 0.2675 - accuracy: 0.9082 - val_loss: 0.2894 - val_accuracy: 0.9043\n",
            "Epoch 5/10\n",
            "1782/1782 [==============================] - 139s 78ms/step - loss: 0.2574 - accuracy: 0.9118 - val_loss: 0.2840 - val_accuracy: 0.9020\n",
            "Epoch 6/10\n",
            "1782/1782 [==============================] - 148s 83ms/step - loss: 0.2483 - accuracy: 0.9145 - val_loss: 0.2945 - val_accuracy: 0.9022\n",
            "Epoch 7/10\n",
            "1782/1782 [==============================] - 140s 79ms/step - loss: 0.2396 - accuracy: 0.9182 - val_loss: 0.3057 - val_accuracy: 0.8957\n",
            "Epoch 8/10\n",
            "1782/1782 [==============================] - 139s 78ms/step - loss: 0.2321 - accuracy: 0.9208 - val_loss: 0.2853 - val_accuracy: 0.9070\n",
            "Epoch 9/10\n",
            "1782/1782 [==============================] - 145s 81ms/step - loss: 0.2261 - accuracy: 0.9229 - val_loss: 0.3042 - val_accuracy: 0.9037\n",
            "Epoch 10/10\n",
            "1782/1782 [==============================] - 140s 78ms/step - loss: 0.2187 - accuracy: 0.9244 - val_loss: 0.3030 - val_accuracy: 0.9040\n"
          ],
          "name": "stdout"
        }
      ]
    },
    {
      "cell_type": "code",
      "metadata": {
        "colab": {
          "base_uri": "https://localhost:8080/"
        },
        "id": "fm3f88P-gS4h",
        "outputId": "1753869e-1654-459a-abc9-4180936dbbef"
      },
      "source": [
        "plot_model_history(history_7)"
      ],
      "execution_count": null,
      "outputs": [
        {
          "output_type": "display_data",
          "data": {
            "image/png": "[encoded data removed]",
            "text/plain": [
              "<Figure size 1080x360 with 2 Axes>"
            ]
          },
          "metadata": {
            "tags": [],
            "needs_background": "light"
          }
        }
      ]
    },
    {
      "cell_type": "markdown",
      "metadata": {
        "id": "OXVJHakUgS4j"
      },
      "source": [
        "These results are much better. Again dropout helped solve our overfitting and we have room for increasing our complexity to try to gain more accuracy."
      ]
    },
    {
      "cell_type": "markdown",
      "metadata": {
        "id": "bo3nkDrzhrR0"
      },
      "source": [
        "## Experiment D - 1D CovNet\r\n",
        "Finally we'll end by testing out the accuracy of a 1 dimensional Convolutional Neural Network and see how it compares to the RNNs.\r\n",
        "8. 1D CovNet"
      ]
    },
    {
      "cell_type": "code",
      "metadata": {
        "id": "cRsca0jYhpzW"
      },
      "source": [
        "model_8 = tf.keras.Sequential([\r\n",
        "                              encoder\r\n",
        "                              ,tf.keras.layers.Embedding(input_dim=len(encoder.get_vocabulary())\r\n",
        "                              ,output_dim=64)\r\n",
        "                              ,tf.keras.layers.Conv1D(64, 5, activation='relu')\r\n",
        "                              ,tf.keras.layers.MaxPooling1D(5)\r\n",
        "                              ,tf.keras.layers.Conv1D(32, 5, activation='relu')\r\n",
        "                              ,tf.keras.layers.Dense(32, activation='relu')\r\n",
        "                              ,tf.keras.layers.GlobalMaxPooling1D()\r\n",
        "                              ,tf.keras.layers.Dense(4,activation='softmax')\r\n",
        "])"
      ],
      "execution_count": null,
      "outputs": []
    },
    {
      "cell_type": "code",
      "metadata": {
        "colab": {
          "base_uri": "https://localhost:8080/"
        },
        "id": "5RST-kKPnMan",
        "outputId": "5b04f539-e95b-48e0-cc43-1e082043b708"
      },
      "source": [
        "history_8, time_8 = compile_and_fit(model_8)"
      ],
      "execution_count": null,
      "outputs": [
        {
          "output_type": "stream",
          "text": [
            "Epoch 1/10\n",
            "1782/1782 [==============================] - 17s 9ms/step - loss: 0.5850 - accuracy: 0.7672 - val_loss: 0.3196 - val_accuracy: 0.8917\n",
            "Epoch 2/10\n",
            "1782/1782 [==============================] - 16s 9ms/step - loss: 0.2892 - accuracy: 0.9004 - val_loss: 0.3189 - val_accuracy: 0.8953\n",
            "Epoch 3/10\n",
            "1782/1782 [==============================] - 16s 9ms/step - loss: 0.2512 - accuracy: 0.9140 - val_loss: 0.3148 - val_accuracy: 0.9010\n",
            "Epoch 4/10\n",
            "1782/1782 [==============================] - 17s 9ms/step - loss: 0.2153 - accuracy: 0.9271 - val_loss: 0.3996 - val_accuracy: 0.8833\n",
            "Epoch 5/10\n",
            "1782/1782 [==============================] - 16s 9ms/step - loss: 0.1808 - accuracy: 0.9392 - val_loss: 0.4177 - val_accuracy: 0.8837\n",
            "Epoch 6/10\n",
            "1782/1782 [==============================] - 16s 9ms/step - loss: 0.1479 - accuracy: 0.9506 - val_loss: 0.4403 - val_accuracy: 0.8868\n",
            "Epoch 7/10\n",
            "1782/1782 [==============================] - 16s 9ms/step - loss: 0.1182 - accuracy: 0.9610 - val_loss: 0.5318 - val_accuracy: 0.8803\n",
            "Epoch 8/10\n",
            "1782/1782 [==============================] - 16s 9ms/step - loss: 0.0933 - accuracy: 0.9696 - val_loss: 0.5865 - val_accuracy: 0.8450\n",
            "Epoch 9/10\n",
            "1782/1782 [==============================] - 16s 9ms/step - loss: 0.0743 - accuracy: 0.9767 - val_loss: 0.6936 - val_accuracy: 0.8570\n",
            "Epoch 10/10\n",
            "1782/1782 [==============================] - 16s 9ms/step - loss: 0.0611 - accuracy: 0.9802 - val_loss: 0.8294 - val_accuracy: 0.8642\n"
          ],
          "name": "stdout"
        }
      ]
    },
    {
      "cell_type": "code",
      "metadata": {
        "colab": {
          "base_uri": "https://localhost:8080/"
        },
        "id": "je26dIfWnMbG",
        "outputId": "f39e9125-db17-41fa-b584-367493007380"
      },
      "source": [
        "plot_model_history(history_8)"
      ],
      "execution_count": null,
      "outputs": [
        {
          "output_type": "display_data",
          "data": {
            "image/png": "[encoded data removed]",
            "text/plain": [
              "<Figure size 1080x360 with 2 Axes>"
            ]
          },
          "metadata": {
            "tags": [],
            "needs_background": "light"
          }
        }
      ]
    },
    {
      "cell_type": "markdown",
      "metadata": {
        "id": "17ZkMUpo8XTz"
      },
      "source": [
        "## Comparing the Results of our Experiments\r\n",
        "Here we'll tabularize everything and see how all of the experiments compared."
      ]
    },
    {
      "cell_type": "code",
      "metadata": {
        "colab": {
          "base_uri": "https://localhost:8080/"
        },
        "id": "u3h7a8gwBVvS",
        "outputId": "074ef37d-6ebb-4920-fe00-d325ee2783bf"
      },
      "source": [
        "# Comparing the accuracy of all of our models on the test set\r\n",
        "\r\n",
        "train_acc = []\r\n",
        "total_acc = []\r\n",
        "total_loss = []\r\n",
        "total_time = []\r\n",
        "x = []\r\n",
        "\r\n",
        "for i in range(1,9):\r\n",
        "    x.append(i)\r\n",
        "    total_time.append(eval(\"time_\" + str(i)))\r\n",
        "    loss, accuracy = eval(\"model_\" + str(i) + \".evaluate(test_dataset)\")\r\n",
        "    train_loss, train_accuracy = eval(\"model_\" + str(i) + \".evaluate(train_dataset)\")\r\n",
        "    total_acc.append(accuracy)\r\n",
        "    total_loss.append(loss)\r\n",
        "    train_acc.append(train_accuracy)\r\n"
      ],
      "execution_count": null,
      "outputs": [
        {
          "output_type": "stream",
          "text": [
            "119/119 [==============================] - 1s 5ms/step - loss: 0.4482 - accuracy: 0.8613\n",
            "1782/1782 [==============================] - 10s 5ms/step - loss: 0.2123 - accuracy: 0.9288\n",
            "119/119 [==============================] - 1s 6ms/step - loss: 0.3250 - accuracy: 0.8882\n",
            "1782/1782 [==============================] - 12s 6ms/step - loss: 0.2402 - accuracy: 0.9168\n",
            "119/119 [==============================] - 1s 10ms/step - loss: 0.3432 - accuracy: 0.8868\n",
            "1782/1782 [==============================] - 18s 10ms/step - loss: 0.1659 - accuracy: 0.9436\n",
            "119/119 [==============================] - 1s 12ms/step - loss: 0.3128 - accuracy: 0.8939\n",
            "1782/1782 [==============================] - 21s 12ms/step - loss: 0.2369 - accuracy: 0.9172\n",
            "119/119 [==============================] - 1s 12ms/step - loss: 0.3311 - accuracy: 0.8918\n",
            "1782/1782 [==============================] - 22s 12ms/step - loss: 0.1968 - accuracy: 0.9352\n",
            "119/119 [==============================] - 2s 14ms/step - loss: 0.3316 - accuracy: 0.8892\n",
            "1782/1782 [==============================] - 25s 14ms/step - loss: 0.1598 - accuracy: 0.9455\n",
            "119/119 [==============================] - 2s 12ms/step - loss: 0.3038 - accuracy: 0.9009\n",
            "1782/1782 [==============================] - 22s 12ms/step - loss: 0.1905 - accuracy: 0.9350\n",
            "119/119 [==============================] - 1s 4ms/step - loss: 0.8177 - accuracy: 0.8568\n",
            "1782/1782 [==============================] - 8s 4ms/step - loss: 0.0425 - accuracy: 0.9867\n"
          ],
          "name": "stdout"
        }
      ]
    },
    {
      "cell_type": "code",
      "metadata": {
        "colab": {
          "base_uri": "https://localhost:8080/",
          "height": 284
        },
        "id": "gM0qjHZgBs_k",
        "outputId": "3b917682-682f-4e7d-f89a-b4a28f30693d"
      },
      "source": [
        "# Plotting Accuracy\r\n",
        "plt.plot(x, total_acc)"
      ],
      "execution_count": null,
      "outputs": [
        {
          "output_type": "execute_result",
          "data": {
            "text/plain": [
              "[<matplotlib.lines.Line2D at 0x7fa8a5a7a6a0>]"
            ]
          },
          "metadata": {
            "tags": []
          },
          "execution_count": 65
        },
        {
          "output_type": "display_data",
          "data": {
            "image/png": "[encoded data removed]",
            "text/plain": [
              "<Figure size 432x288 with 1 Axes>"
            ]
          },
          "metadata": {
            "tags": [],
            "needs_background": "light"
          }
        }
      ]
    },
    {
      "cell_type": "code",
      "metadata": {
        "colab": {
          "base_uri": "https://localhost:8080/",
          "height": 284
        },
        "id": "sWPkMxLWCfdA",
        "outputId": "5861f363-8be2-488b-93f6-291dda6f35ef"
      },
      "source": [
        "# Plotting Loss\r\n",
        "plt.plot(x, total_loss)"
      ],
      "execution_count": null,
      "outputs": [
        {
          "output_type": "execute_result",
          "data": {
            "text/plain": [
              "[<matplotlib.lines.Line2D at 0x7fa8ab49b470>]"
            ]
          },
          "metadata": {
            "tags": []
          },
          "execution_count": 66
        },
        {
          "output_type": "display_data",
          "data": {
            "image/png": "[encoded data removed]",
            "text/plain": [
              "<Figure size 432x288 with 1 Axes>"
            ]
          },
          "metadata": {
            "tags": [],
            "needs_background": "light"
          }
        }
      ]
    },
    {
      "cell_type": "code",
      "metadata": {
        "colab": {
          "base_uri": "https://localhost:8080/"
        },
        "id": "I9pQaK1YEBOC",
        "outputId": "642cacef-0081-44a8-b682-aaab59f2242c"
      },
      "source": [
        "# Checking Times\r\n",
        "for item in range(len(total_time)):\r\n",
        "  print(\"Model \", x[item], \":\\t\", total_time[item])"
      ],
      "execution_count": null,
      "outputs": [
        {
          "output_type": "stream",
          "text": [
            "Model  1 :\t 0:03:03.603329\n",
            "Model  2 :\t 0:05:08.873077\n",
            "Model  3 :\t 0:10:24.990736\n",
            "Model  4 :\t 0:17:39.768853\n",
            "Model  5 :\t 0:09:02.646850\n",
            "Model  6 :\t 0:11:27.222589\n",
            "Model  7 :\t 0:23:35.596060\n",
            "Model  8 :\t 0:02:41.138187\n"
          ],
          "name": "stdout"
        }
      ]
    },
    {
      "cell_type": "code",
      "metadata": {
        "colab": {
          "base_uri": "https://localhost:8080/"
        },
        "id": "VLmJIZ2OCjdO",
        "outputId": "c3dedec2-7737-43d1-f299-9086d0dcf277"
      },
      "source": [
        "print(\"Model with Max Accuracy: \\t\", np.argmax(total_acc, axis=-1)+1)\r\n",
        "print(\"Model with Min Loss: \\t\\t\", np.argmin(total_loss, axis=-1)+1)\r\n",
        "print(\"Model with Fastest Time: \\t\", np.argmin(total_time, axis=-1)+1)\r\n"
      ],
      "execution_count": null,
      "outputs": [
        {
          "output_type": "stream",
          "text": [
            "Model with Max Accuracy: \t 7\n",
            "Model with Min Loss: \t\t 7\n",
            "Model with Fastest Time: \t 8\n"
          ],
          "name": "stdout"
        }
      ]
    },
    {
      "cell_type": "markdown",
      "metadata": {
        "id": "P6aFd_-7H-PV"
      },
      "source": [
        "Now let's look at all of the models together in a tabular format across all metrics:"
      ]
    },
    {
      "cell_type": "markdown",
      "metadata": {
        "id": "7d9HSz1DKEd9"
      },
      "source": [
        "![image.png](data:image/png;base64,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)"
      ]
    },
    {
      "cell_type": "code",
      "metadata": {
        "id": "cbwkLliQg0B_"
      },
      "source": [
        ""
      ],
      "execution_count": null,
      "outputs": []
    },
    {
      "cell_type": "code",
      "metadata": {
        "id": "txW4bIfXgz_y"
      },
      "source": [
        ""
      ],
      "execution_count": null,
      "outputs": []
    },
    {
      "cell_type": "code",
      "metadata": {
        "id": "DTlKUvjxhpwK"
      },
      "source": [
        ""
      ],
      "execution_count": null,
      "outputs": []
    },
    {
      "cell_type": "code",
      "metadata": {
        "id": "dxjSkF2aBdAl"
      },
      "source": [
        ""
      ],
      "execution_count": null,
      "outputs": []
    },
    {
      "cell_type": "code",
      "metadata": {
        "id": "kd7UXKQNBc91"
      },
      "source": [
        ""
      ],
      "execution_count": null,
      "outputs": []
    },
    {
      "cell_type": "code",
      "metadata": {
        "id": "03TChOspBc7H"
      },
      "source": [
        ""
      ],
      "execution_count": null,
      "outputs": []
    }
  ]
}